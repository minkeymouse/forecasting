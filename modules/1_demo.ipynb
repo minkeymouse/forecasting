{
 "cells": [
  {
   "cell_type": "code",
   "execution_count": null,
   "id": "1c71b5f1",
   "metadata": {},
   "outputs": [],
   "source": [
    "from config import CONFIG\n",
    "from oecdapi import OECDAPI"
   ]
  }
 ],
 "metadata": {
  "language_info": {
   "name": "python"
  }
 },
 "nbformat": 4,
 "nbformat_minor": 5
}
