{
 "cells": [
  {
   "cell_type": "code",
   "execution_count": 28,
   "id": "b67cb3b1",
   "metadata": {},
   "outputs": [],
   "source": [
    "import torch"
   ]
  },
  {
   "cell_type": "code",
   "execution_count": 44,
   "id": "3f697d87",
   "metadata": {},
   "outputs": [],
   "source": [
    "t1 = torch.tensor([ [ [1, 2, 3],\n",
    "                    [4, 5, 6],\n",
    "                    [7, 8, 9] ],\n",
    "\n",
    "                    [[1, 2, 3],\n",
    "                     [4, 5, 6],\n",
    "                     [7, 8, 9]]], dtype=torch.float32)"
   ]
  },
  {
   "cell_type": "code",
   "execution_count": 45,
   "id": "8b18acde",
   "metadata": {},
   "outputs": [
    {
     "data": {
      "text/plain": [
       "torch.Size([2, 3, 3])"
      ]
     },
     "execution_count": 45,
     "metadata": {},
     "output_type": "execute_result"
    }
   ],
   "source": [
    "t1.shape"
   ]
  },
  {
   "cell_type": "code",
   "execution_count": 46,
   "id": "2824d7da",
   "metadata": {},
   "outputs": [
    {
     "data": {
      "text/plain": [
       "array([[[1., 2., 3.],\n",
       "        [4., 5., 6.],\n",
       "        [7., 8., 9.]],\n",
       "\n",
       "       [[1., 2., 3.],\n",
       "        [4., 5., 6.],\n",
       "        [7., 8., 9.]]], dtype=float32)"
      ]
     },
     "execution_count": 46,
     "metadata": {},
     "output_type": "execute_result"
    }
   ],
   "source": [
    "t1.numpy()"
   ]
  },
  {
   "cell_type": "code",
   "execution_count": 56,
   "id": "23f14881",
   "metadata": {},
   "outputs": [
    {
     "data": {
      "text/plain": [
       "tensor(6.)"
      ]
     },
     "execution_count": 56,
     "metadata": {},
     "output_type": "execute_result"
    }
   ],
   "source": [
    "t1[0,1,2]"
   ]
  },
  {
   "cell_type": "code",
   "execution_count": 58,
   "id": "fd82f4ef",
   "metadata": {},
   "outputs": [],
   "source": [
    "t2 = torch.tensor([[5, 6], [7, 8]])"
   ]
  },
  {
   "cell_type": "code",
   "execution_count": 60,
   "id": "a31d3f71",
   "metadata": {},
   "outputs": [
    {
     "name": "stdout",
     "output_type": "stream",
     "text": [
      "torch.Size([2, 3, 3])\n",
      "torch.Size([2, 2])\n"
     ]
    }
   ],
   "source": [
    "print(t1.shape)\n",
    "print(t2.shape)"
   ]
  },
  {
   "cell_type": "code",
   "execution_count": 61,
   "id": "bebc55bf",
   "metadata": {},
   "outputs": [
    {
     "data": {
      "text/plain": [
       "tensor([[5, 6],\n",
       "        [7, 8]])"
      ]
     },
     "execution_count": 61,
     "metadata": {},
     "output_type": "execute_result"
    }
   ],
   "source": [
    "t2"
   ]
  },
  {
   "cell_type": "code",
   "execution_count": 63,
   "id": "dabfb8a3",
   "metadata": {},
   "outputs": [
    {
     "data": {
      "text/plain": [
       "tensor([[5],\n",
       "        [6],\n",
       "        [7],\n",
       "        [8]])"
      ]
     },
     "execution_count": 63,
     "metadata": {},
     "output_type": "execute_result"
    }
   ],
   "source": [
    "t2.view(4,1)"
   ]
  },
  {
   "cell_type": "code",
   "execution_count": 71,
   "id": "7c9cf882",
   "metadata": {},
   "outputs": [
    {
     "name": "stdout",
     "output_type": "stream",
     "text": [
      "torch.Size([2155, 1])\n",
      "torch.Size([2155, 1])\n"
     ]
    }
   ],
   "source": [
    "import pandas as pd\n",
    "\n",
    "df = pd.read_csv(\"../datasets/df_blanchard.csv\")\n",
    "\n",
    "x = torch.from_numpy(df[\"UNEMP_rate\"].values).unsqueeze(dim=1).float()\n",
    "y = torch.from_numpy(df[\"GDP_growth\"].values).unsqueeze(dim=1).float()\n",
    "\n",
    "print(x.shape)\n",
    "print(y.shape)\n"
   ]
  },
  {
   "cell_type": "code",
   "execution_count": null,
   "id": "194261d2",
   "metadata": {},
   "outputs": [
    {
     "data": {
      "text/plain": [
       "<torch.utils.data.dataloader.DataLoader at 0x151156f80>"
      ]
     },
     "execution_count": 74,
     "metadata": {},
     "output_type": "execute_result"
    }
   ],
   "source": [
    "from torch.utils.data import Dataset, DataLoader\n",
    "\n",
    "class MyDataset(Dataset):\n",
    "    def __init__(self, csv_file):\n",
    "        self.label = pd.read_csv(csv_file)\n",
    "\n",
    "    def __len__(self):\n",
    "        return len(self.label)\n",
    "\n",
    "    def __getitem__(self, idx):\n",
    "        sample = torch.tensor(self.label.iloc[idx, 1]).int()\n",
    "        label = torch.tensor(self.label.iloc[idx, 50]).int()\n",
    "        return sample, label\n",
    "    \n",
    "tensor_dataset = MyDataset(\"../datasets/df_blanchard.csv\")\n",
    "training_data = DataLoader(tensor_dataset, batch_size=431, shuffle=True)\n",
    "training_data"
   ]
  },
  {
   "cell_type": "code",
   "execution_count": null,
   "id": "b25621f5",
   "metadata": {},
   "outputs": [],
   "source": [
    "import torch.nn as nn\n",
    "\n",
    "class MyModel(nn.Module):\n",
    "    def __init__(self):\n",
    "        super(MyModel, self).__init__()\n",
    "        self.linear = nn.Linear(3, 1)\n",
    "\n",
    "    def forward(self, x):\n",
    "        return self.linear(x)"
   ]
  },
  {
   "cell_type": "code",
   "execution_count": 79,
   "id": "b027dbaf",
   "metadata": {},
   "outputs": [
    {
     "name": "stdout",
     "output_type": "stream",
     "text": [
      "Epoch 01/20  Loss: 1.005243\n",
      "Epoch 02/20  Loss: 0.990092\n",
      "Epoch 03/20  Loss: 0.947294\n",
      "Epoch 04/20  Loss: 0.842102\n",
      "Epoch 05/20  Loss: 0.825729\n",
      "Epoch 06/20  Loss: 0.820607\n",
      "Epoch 07/20  Loss: 0.816823\n",
      "Epoch 08/20  Loss: 0.816172\n",
      "Epoch 09/20  Loss: 0.811071\n",
      "Epoch 10/20  Loss: 0.805553\n",
      "Epoch 11/20  Loss: 0.803794\n",
      "Epoch 12/20  Loss: 0.795155\n",
      "Epoch 13/20  Loss: 0.789678\n",
      "Epoch 14/20  Loss: 0.781921\n",
      "Epoch 15/20  Loss: 0.772535\n",
      "Epoch 16/20  Loss: 0.759576\n",
      "Epoch 17/20  Loss: 0.740897\n",
      "Epoch 18/20  Loss: 0.724283\n",
      "Epoch 19/20  Loss: 0.687111\n",
      "Epoch 20/20  Loss: 0.635838\n"
     ]
    }
   ],
   "source": [
    "import torch\n",
    "from torch import nn, optim\n",
    "from torch.utils.data import Dataset, DataLoader\n",
    "import pandas as pd\n",
    "\n",
    "# 1) Dataset: sliding window of length=50 → predict next unemployment value(s)\n",
    "class UnempSequenceDataset(Dataset):\n",
    "    def __init__(self, csv_file: str, seq_len: int = 50, horizon: int = 1):\n",
    "        df = pd.read_csv(csv_file).dropna(subset=[\"UNEMP_rate\"])  # 결측치 제거\n",
    "        data = df[\"UNEMP_rate\"].values.astype(float)\n",
    "\n",
    "        # 정규화 (평균 제거 + 표준편차 나누기)\n",
    "        mean = data.mean()\n",
    "        std = data.std()\n",
    "        data = (data - mean) / std\n",
    "\n",
    "        self.seq_len = seq_len\n",
    "        self.horizon = horizon\n",
    "\n",
    "        sequences = []\n",
    "        targets = []\n",
    "        total_len = len(data)\n",
    "        for i in range(total_len - seq_len - horizon + 1):\n",
    "            x_seq = data[i : i + seq_len]                           # (seq_len,)\n",
    "            y_seq = data[i + seq_len : i + seq_len + horizon]       # (horizon,)\n",
    "            sequences.append(x_seq.reshape(seq_len, 1))             # (seq_len, 1)\n",
    "            targets.append(y_seq.reshape(horizon, 1))               # (horizon, 1)\n",
    "\n",
    "        self.X = torch.tensor(sequences, dtype=torch.float32)       # (num_samples, seq_len, 1)\n",
    "        self.Y = torch.tensor(targets, dtype=torch.float32)         # (num_samples, horizon, 1)\n",
    "\n",
    "    def __len__(self):\n",
    "        return self.X.size(0)\n",
    "\n",
    "    def __getitem__(self, idx):\n",
    "        return self.X[idx], self.Y[idx]\n",
    "\n",
    "\n",
    "# 2) Seq2Seq LSTM 모델 정의\n",
    "class Encoder(nn.Module):\n",
    "    def __init__(self, input_size: int, hidden_size: int, num_layers: int):\n",
    "        super(Encoder, self).__init__()\n",
    "        self.lstm = nn.LSTM(\n",
    "            input_size=input_size,\n",
    "            hidden_size=hidden_size,\n",
    "            num_layers=num_layers,\n",
    "            batch_first=True,\n",
    "            bidirectional=False\n",
    "        )\n",
    "\n",
    "    def forward(self, src: torch.Tensor):\n",
    "        batch_size = src.size(0)\n",
    "        hidden_size = self.lstm.hidden_size\n",
    "        num_layers = self.lstm.num_layers\n",
    "\n",
    "        h0 = torch.zeros(num_layers, batch_size, hidden_size, device=src.device)\n",
    "        c0 = torch.zeros(num_layers, batch_size, hidden_size, device=src.device)\n",
    "        _, (hidden, cell) = self.lstm(src, (h0, c0))\n",
    "        return hidden, cell\n",
    "\n",
    "\n",
    "class Decoder(nn.Module):\n",
    "    def __init__(self, input_size: int, hidden_size: int, num_layers: int, output_size: int):\n",
    "        super(Decoder, self).__init__()\n",
    "        self.lstm = nn.LSTM(\n",
    "            input_size=input_size,\n",
    "            hidden_size=hidden_size,\n",
    "            num_layers=num_layers,\n",
    "            batch_first=True,\n",
    "            bidirectional=False\n",
    "        )\n",
    "        self.fc = nn.Linear(hidden_size, output_size)\n",
    "\n",
    "    def forward(self, tgt: torch.Tensor, hidden: torch.Tensor, cell: torch.Tensor):\n",
    "        out, (hidden, cell) = self.lstm(tgt, (hidden, cell))\n",
    "        prediction = self.fc(out.squeeze(1))  # (batch_size, output_size)\n",
    "        return prediction, hidden, cell\n",
    "\n",
    "\n",
    "class Seq2Seq(nn.Module):\n",
    "    def __init__(self, encoder: Encoder, decoder: Decoder, device: torch.device, horizon: int = 1):\n",
    "        super(Seq2Seq, self).__init__()\n",
    "        self.encoder = encoder\n",
    "        self.decoder = decoder\n",
    "        self.device = device\n",
    "        self.horizon = horizon\n",
    "\n",
    "    def forward(self, src: torch.Tensor, tgt: torch.Tensor = None, teacher_forcing_ratio: float = 0.5):\n",
    "        batch_size = src.size(0)\n",
    "        output_size = self.decoder.fc.out_features\n",
    "\n",
    "        outputs = torch.zeros(batch_size, self.horizon, output_size, device=self.device)\n",
    "\n",
    "        hidden, cell = self.encoder(src)\n",
    "        input_decoder = src[:, -1, :].unsqueeze(1)  # (batch_size, 1, input_size)\n",
    "\n",
    "        for t in range(self.horizon):\n",
    "            pred, hidden, cell = self.decoder(input_decoder, hidden, cell)\n",
    "            outputs[:, t, :] = pred\n",
    "\n",
    "            use_teacher = tgt is not None and torch.rand(1).item() < teacher_forcing_ratio\n",
    "            if use_teacher:\n",
    "                input_decoder = tgt[:, t, :].unsqueeze(1)  # (batch_size, 1, input_size)\n",
    "            else:\n",
    "                input_decoder = pred.unsqueeze(1)           # (batch_size, 1, input_size)\n",
    "\n",
    "        return outputs\n",
    "\n",
    "\n",
    "# 3) 학습 파이프라인\n",
    "if __name__ == \"__main__\":\n",
    "    # 장치 설정\n",
    "    device = torch.device(\"cuda\" if torch.cuda.is_available() else \"cpu\")\n",
    "\n",
    "    # 하이퍼파라미터\n",
    "    seq_len     = 50\n",
    "    horizon     = 1\n",
    "    input_size  = 1\n",
    "    hidden_size = 64\n",
    "    num_layers  = 2\n",
    "    output_size = 1\n",
    "\n",
    "    num_epochs     = 20\n",
    "    batch_size     = 32\n",
    "    learning_rate  = 1e-4    # 학습률 낮춤\n",
    "    teacher_force_r = 0.5\n",
    "\n",
    "    # 데이터셋 및 데이터로더\n",
    "    dataset = UnempSequenceDataset(\n",
    "        csv_file=\"../datasets/df_blanchard.csv\",\n",
    "        seq_len=seq_len,\n",
    "        horizon=horizon\n",
    "    )\n",
    "    loader = DataLoader(dataset, batch_size=batch_size, shuffle=True)\n",
    "\n",
    "    # 모델 생성 및 옵티마이저/손실함수 정의\n",
    "    enc = Encoder(input_size=input_size, hidden_size=hidden_size, num_layers=num_layers).to(device)\n",
    "    dec = Decoder(input_size=input_size, hidden_size=hidden_size, num_layers=num_layers, output_size=output_size).to(device)\n",
    "    model = Seq2Seq(encoder=enc, decoder=dec, device=device, horizon=horizon).to(device)\n",
    "\n",
    "    criterion = nn.MSELoss()\n",
    "    optimizer = optim.Adam(model.parameters(), lr=learning_rate)\n",
    "\n",
    "    # 학습 루프\n",
    "    for epoch in range(1, num_epochs + 1):\n",
    "        model.train()\n",
    "        total_loss = 0.0\n",
    "\n",
    "        for batch_src, batch_tgt in loader:\n",
    "            batch_src = batch_src.to(device)  # (batch_size, seq_len, 1)\n",
    "            batch_tgt = batch_tgt.to(device)  # (batch_size, horizon, 1)\n",
    "\n",
    "            optimizer.zero_grad()\n",
    "            outputs = model(batch_src, batch_tgt, teacher_forcing_ratio=teacher_force_r)\n",
    "            loss = criterion(\n",
    "                outputs.squeeze(-1),  # (batch_size, horizon)\n",
    "                batch_tgt.squeeze(-1)  # (batch_size, horizon)\n",
    "            )\n",
    "            loss.backward()\n",
    "            torch.nn.utils.clip_grad_norm_(model.parameters(), max_norm=1.0)\n",
    "            optimizer.step()\n",
    "\n",
    "            total_loss += loss.item() * batch_src.size(0)\n",
    "\n",
    "        avg_loss = total_loss / len(dataset)\n",
    "        print(f\"Epoch {epoch:02d}/{num_epochs:02d}  Loss: {avg_loss:.6f}\")\n"
   ]
  },
  {
   "cell_type": "code",
   "execution_count": null,
   "id": "29444fd9",
   "metadata": {},
   "outputs": [],
   "source": [
    "class SelfAttention(nn.Module):\n",
    "    def __init__(self, embed_size, heads):\n",
    "        super(SelfAttention, self).__init__()\n",
    "        self.embed_size = embed_size\n",
    "        self.heads = heads\n",
    "        self.head_dim = embed_size // heads\n",
    "\n",
    "        assert (self.head_dim * heads == embed_size), \"Embedding size must be divisible by heads\"\n",
    "        self.values = nn.Linear(self.head_dim, self.head_dim, bias =False)\n",
    "        self.keys = nn.Linear(self.head_dim, self.head_dim, bias =False)\n",
    "        self.queries = nn.Linear(self.head_dim, self.head_dim, bias =False)\n",
    "        self.fc_out = nn.Linear(heads * self.head_dim, embed_size)\n",
    "\n",
    "    def forward(self, values, keys, query, mask):\n",
    "        N = query.shape[0]\n",
    "        value_len, key_len, query_len = values.shape[1], keys.shape[1], query.shape[1]\n",
    "\n",
    "        values = values.reshape(N, value_len, self.heads, self.head_dim)\n",
    "        keys = keys.reshape(N, key_len, self.heads, self.head_dim)\n",
    "        queries = query.reshape(N, query_len, self.heads, self.head_dim)\n",
    "\n",
    "        values = self.values(values)\n",
    "        keys = self.keys(keys)\n",
    "        queries = self.queries(queries)\n",
    "\n",
    "        energy = torch.einsum(\"nqhd,nkhd->nhqk\", [queries, keys])\n",
    "\n",
    "\n",
    "        \n",
    "        if mask is not None:\n",
    "            energy = energy.masked_fill(mask == 0, float(\"-1e20\"))\n",
    "\n",
    "        attention = torch.softmax(energy / (self.embed_size ** (1/2)), dim=3)\n",
    "\n",
    "        out = torch.einsum(\"nhql,nlhd->nqhd\",[attention, values]).reshape(\n",
    "            N, query_len, self.heads * self.head_dim\n",
    "        )\n",
    "\n",
    "        out = self.fc_out(out)\n",
    "        return out"
   ]
  },
  {
   "cell_type": "code",
   "execution_count": null,
   "id": "d72321e4",
   "metadata": {},
   "outputs": [],
   "source": [
    "class TransformerBlock(nn.Module):\n",
    "    def __init__(self, embed_size, heads, dropout, forward_expansion):\n",
    "        super(TransformerBlock, self).__init__()\n",
    "        self.attention = SelfAttention(embed_size, heads)\n",
    "        self.norm1 = nn.LayerNorm(embed_size)\n",
    "        self.norm2 = nn.LayerNorm(embed_size)\n",
    "\n",
    "        self.feed_forward = nn.Sequential(\n",
    "            nn.Linear(embed_size, forward_expansion * embed_size),\n",
    "            nn.ReLU(),\n",
    "            nn.Linear(forward_expansion*embed_size, embed_size)\n",
    "        )\n",
    "        self.dropout = nn.Dropout(dropout)\n",
    "\n",
    "    def forward(self, value, key, query, mask):\n",
    "        attention = self.attention(value, key, query, mask)\n",
    "\n",
    "        x = self.dropout(self.norm1(attention + query))\n",
    "        forward = self.feed_forward(x)\n",
    "        out = self.dropout(self.norm2(forward + x))\n",
    "        return out"
   ]
  },
  {
   "cell_type": "code",
   "execution_count": null,
   "id": "797617be",
   "metadata": {},
   "outputs": [],
   "source": [
    "class Encoder(nn.Module):\n",
    "    def __init__(\n",
    "            self,\n",
    "            src_vocab_size,\n",
    "            embed_size,\n",
    "            num_layers,\n",
    "            heads,\n",
    "            device,\n",
    "            forward_expansion,\n",
    "            dropout,\n",
    "            max_length,\n",
    "    ):\n",
    "        super(Encoder, self).__init__()\n",
    "        self.embed_size = embed_size\n",
    "        self.device = device\n",
    "        self.word_embedding = nn.Embedding(src_vocab_size, embed_size)\n",
    "        self.position_embedding = nn.Embedding(max_length, embed_size)\n",
    "\n",
    "        self.layers = nn.ModuleList(\n",
    "            [\n",
    "                TransformerBlock(\n",
    "                    embed_size,\n",
    "                    heads,\n",
    "                    dropout,\n",
    "                    forward_expansion=forward_expansion,\n",
    "                )\n",
    "            for _ in range(num_layers)]\n",
    "        )\n",
    "        self.dropout = nn.Dropout(dropout)\n",
    "\n",
    "    def forward(self, x, mask):\n",
    "        N, seq_length = x.shape\n",
    "        positions = torch.arange(0, seq_length).expand(N, seq_length).to(self.device)\n",
    "\n",
    "        out = self.dropout(self.word_embedding(x) + self.position_embedding(positions))\n",
    "\n",
    "        for layer in self.layers:\n",
    "            out = layer(out, out, out, mask)\n",
    "        \n",
    "        return out"
   ]
  },
  {
   "cell_type": "code",
   "execution_count": null,
   "id": "b1b6732f",
   "metadata": {},
   "outputs": [],
   "source": [
    "class DecoderBlock(nn.Module):\n",
    "    def __init__(self, embed_size, heads, forward_expansion, dropout, device):\n",
    "        super(DecoderBlock, self).__init__()\n",
    "        self.attention = SelfAttention(embed_size, heads)\n",
    "        self.norm = nn.LayerNorm(embed_size)\n",
    "        self.transformer_block = TransformerBlock(\n",
    "            embed_size, heads, dropout, forward_expansion\n",
    "        )\n",
    "        self.dropout = nn.Dropout(dropout)\n",
    "\n",
    "    def forward(self, x, value, key, src_mask, trg_mask):\n",
    "        attention = self.attention(x, x, x, trg_mask)\n",
    "        query = self.dropout(self.norm(attention + x))\n",
    "        out = self.transformer_block(value, key, query, src_mask)\n",
    "        return out"
   ]
  },
  {
   "cell_type": "code",
   "execution_count": null,
   "id": "95af346a",
   "metadata": {},
   "outputs": [],
   "source": [
    "class Decoder(nn.Module):\n",
    "    def __init__(self,\n",
    "                 trg_vocab_size,\n",
    "                 embed_size,\n",
    "                 num_layers,\n",
    "                 heads,\n",
    "                 forward_expansion,\n",
    "                 dropout,\n",
    "                 device,\n",
    "                 max_length,\n",
    "    ):\n",
    "        super(Decoder, self).__init__()\n",
    "        self.device = device\n",
    "        self.word_embedding = nn.Embedding(trg_vocab_size, embed_size)\n",
    "        self.position_embedding = nn.Embedding(max_length, embed_size)\n",
    "\n",
    "        self.layers = nn.ModuleList(\n",
    "            [DecoderBlock(embed_size, heads, forward_expansion, dropout, device)\n",
    "             for _ in range(num_layers)]\n",
    "        )\n",
    "\n",
    "        self.fc_out = nn.Linear(embed_size, trg_vocab_size)\n",
    "        self.dropout = nn.Dropout(dropout)\n",
    "\n",
    "    def forward(self, x, enc_out, src_mask, trg_mask):\n",
    "        N, seq_length = x.shape\n",
    "        positions = torch.arange(0, seq_length).expand(N, seq_length).to(self.device)\n",
    "        x = self.dropout((self.word_embedding(x) + self.position_embedding(positions)))\n",
    "\n",
    "        for layer in self.layers:\n",
    "            x = layer(x, enc_out, enc_out, src_mask, trg_mask)\n",
    "        out = self.fc_out(x)\n",
    "        return out"
   ]
  },
  {
   "cell_type": "code",
   "execution_count": null,
   "id": "9ce72310",
   "metadata": {},
   "outputs": [],
   "source": [
    "class Transformer(nn.Module):\n",
    "    def __init__(\n",
    "            self,\n",
    "            src_vocab_size,\n",
    "            trg_vocab_size,\n",
    "            src_pad_idx,\n",
    "            trg_pad_idx,\n",
    "            embed_size=256,\n",
    "            num_layers=6,\n",
    "            forward_expansion=4,\n",
    "            heads=8,\n",
    "            dropout=0,\n",
    "            device=\"cuda\",\n",
    "            max_length=100\n",
    "    ):\n",
    "        super(Transformer, self).__init__()\n",
    "\n",
    "        self.encoder = Encoder(\n",
    "            src_vocab_size,\n",
    "            embed_size,\n",
    "            num_layers,\n",
    "            heads,\n",
    "            device,\n",
    "            forward_expansion,\n",
    "            dropout,\n",
    "            max_length\n",
    "        )\n",
    "\n",
    "        self.decoder = Decoder(\n",
    "            trg_vocab_size,\n",
    "            embed_size,\n",
    "            num_layers,\n",
    "            heads,\n",
    "            forward_expansion,\n",
    "            dropout,\n",
    "            device,\n",
    "            max_length\n",
    "        )\n",
    "\n",
    "        self.src_pad_idx = src_pad_idx\n",
    "        self.trg_pad_idx = trg_pad_idx\n",
    "        self.device = device\n",
    "\n",
    "    def make_src_mask(self, src):\n",
    "        src_mask = (src != self.src_pad_idx).unsqueeze(1).unsqueeze(2)\n",
    "        return src_mask.to(self.device)\n",
    "    \n",
    "    def make_trg_mask(self, trg):\n",
    "        N, trg_len = trg.shape\n",
    "        trg_mask = torch.tril(torch.ones(trg_len, trg_len)).expand(\n",
    "            N, 1, trg_len, trg_len\n",
    "        )\n",
    "        return trg_mask.to(self.device)\n",
    "    \n",
    "    def forward(self, src, trg):\n",
    "        src_mask = self.make_src_mask(src)\n",
    "        trg_mask = self.make_trg_mask(trg)\n",
    "        enc_src = self.encoder(src, src_mask)\n",
    "        out = self.decoder(trg, enc_src, src_mask, trg_mask)\n",
    "        return out\n"
   ]
  },
  {
   "cell_type": "code",
   "execution_count": null,
   "id": "fad7e417",
   "metadata": {},
   "outputs": [
    {
     "name": "stdout",
     "output_type": "stream",
     "text": [
      "torch.Size([2, 9, 10])\n"
     ]
    }
   ],
   "source": [
    "if __name__ == \"__main__\":\n",
    "    device = \"cpu\"\n",
    "    x = torch.tensor([[1,2,3,6,7,9,0,7,9,4], [5,7,9,5,4,3,2,7,9,1]]).to(device)\n",
    "    trg = torch.tensor([[6,2,5,7,8,9,5,3,7,9], [9,4,2,6,8,6,4,2,5,0]]).to(device)\n",
    "\n",
    "    src_pad_idx = 0\n",
    "    trg_pad_idx = 0\n",
    "    src_vocab_size = 10\n",
    "    trg_vocab_size = 10\n",
    "    model = Transformer(src_vocab_size, trg_vocab_size, src_pad_idx, trg_pad_idx,device=device).to(device)\n",
    "    out = model(x, trg[:, :-1])\n",
    "    print(out.shape)  # (N, trg_len-1, trg_vocab_size)"
   ]
  }
 ],
 "metadata": {
  "kernelspec": {
   "display_name": "forecasting_lecture",
   "language": "python",
   "name": "python3"
  },
  "language_info": {
   "codemirror_mode": {
    "name": "ipython",
    "version": 3
   },
   "file_extension": ".py",
   "mimetype": "text/x-python",
   "name": "python",
   "nbconvert_exporter": "python",
   "pygments_lexer": "ipython3",
   "version": "3.10.17"
  }
 },
 "nbformat": 4,
 "nbformat_minor": 5
}
