{
 "cells": [
  {
   "cell_type": "code",
   "execution_count": 3,
   "id": "e8cfe9fe",
   "metadata": {},
   "outputs": [],
   "source": [
    "import sys\n",
    "import os\n",
    "from oecdapi import OECDAPI"
   ]
  },
  {
   "cell_type": "code",
   "execution_count": null,
   "id": "25d61cb5",
   "metadata": {},
   "outputs": [],
   "source": []
  },
  {
   "cell_type": "code",
   "execution_count": null,
   "id": "b9b0b2ea",
   "metadata": {},
   "outputs": [],
   "source": []
  },
  {
   "cell_type": "code",
   "execution_count": 16,
   "id": "1a05f1ef",
   "metadata": {},
   "outputs": [
    {
     "name": "stdout",
     "output_type": "stream",
     "text": [
      "Sample of the CSV loaded as DataFrame:\n",
      "                                     DATAFLOW REF_AREA FREQ METHODOLOGY  \\\n",
      "0  OECD.SDD.TPS:DSD_PRICES@DF_PRICES_ALL(1.0)      FRA    Q           N   \n",
      "1  OECD.SDD.TPS:DSD_PRICES@DF_PRICES_ALL(1.0)      FRA    Q           N   \n",
      "2  OECD.SDD.TPS:DSD_PRICES@DF_PRICES_ALL(1.0)      FRA    Q           N   \n",
      "3  OECD.SDD.TPS:DSD_PRICES@DF_PRICES_ALL(1.0)      FRA    Q           N   \n",
      "4  OECD.SDD.TPS:DSD_PRICES@DF_PRICES_ALL(1.0)      FRA    Q           N   \n",
      "\n",
      "  MEASURE UNIT_MEASURE EXPENDITURE ADJUSTMENT TRANSFORMATION TIME_PERIOD  \\\n",
      "0     CPI           PA          _T          N             GY     2022-Q4   \n",
      "1     CPI           PA          _T          N             GY     2022-Q3   \n",
      "2     CPI           PA          _T          N             GY     2022-Q2   \n",
      "3     CPI           PA          _T          N             GY     2024-Q1   \n",
      "4     CPI           PA          _T          N             GY     2023-Q4   \n",
      "\n",
      "   OBS_VALUE OBS_STATUS  UNIT_MULT  BASE_PER  DURABILITY  DECIMALS  \n",
      "0   6.066803          A        NaN       NaN         NaN         2  \n",
      "1   5.848373          A        NaN       NaN         NaN         2  \n",
      "2   5.288945          A        NaN       NaN         NaN         2  \n",
      "3   2.794020          A        NaN       NaN         NaN         2  \n",
      "4   3.718743          A        NaN       NaN         NaN         2  \n",
      "CSV file 'oecd_price_index.csv' created.\n"
     ]
    }
   ],
   "source": [
    "import requests\n",
    "import pandas as pd\n",
    "from io import StringIO\n",
    "\n",
    "# Specify the country and time period\n",
    "country = \"FRA\"\n",
    "sample_url = (\n",
    "    \"https://sdmx.oecd.org/public/rest/data/\"\n",
    "    \"OECD.SDD.TPS,DSD_PRICES@DF_PRICES_ALL,1.0/\"\n",
    "    \"CAN+FRA.Q.N.CPI.PA._T.N.GY+_Z\"\n",
    "    \"?startPeriod=2021-Q4&format=csv\"  # Note the format=csv here\n",
    ")\n",
    "\n",
    "# Send the GET request\n",
    "resp = requests.get(sample_url)\n",
    "resp.raise_for_status()\n",
    "\n",
    "# Read the response text as CSV using StringIO\n",
    "df_sample = pd.read_csv(StringIO(resp.text))\n",
    "print(\"Sample of the CSV loaded as DataFrame:\")\n",
    "print(df_sample.head())\n",
    "\n",
    "# Save the DataFrame to a CSV file\n",
    "df_sample.to_csv(\"oecd_price_index.csv\", index=False)\n",
    "print(\"CSV file 'oecd_price_index.csv' created.\")\n"
   ]
  },
  {
   "cell_type": "code",
   "execution_count": null,
   "id": "62480480",
   "metadata": {},
   "outputs": [],
   "source": []
  },
  {
   "cell_type": "code",
   "execution_count": null,
   "id": "f6e3fab5",
   "metadata": {},
   "outputs": [],
   "source": []
  },
  {
   "cell_type": "code",
   "execution_count": null,
   "id": "b630f617",
   "metadata": {},
   "outputs": [],
   "source": [
    "url = (\n",
    "    \"https://sdmx.oecd.org/public/rest/data/OECD.SDD.NAD,DSD_NAMAIN1@DF_QNA,1.1/..AUT...._Z......T0102?startPeriod=2022\"\n",
    ")\n",
    "\n",
    "configurations = {\n",
    "    \"real_gdp\": {\"transaction\": \"B1GQ\", \"sector\": \"S1\"},\n",
    "    \"consumption\": {\"transaction\": \"P3\", \"sector\": \"S1\", \"expenditure\": \"_T\", \"table\": \"T0102\"},\n",
    "    \"capital\": {\"transaction\": \"P51G\", \"sector\": \"S1\", \"expenditure\": \"_T\", \"table\": \"T0102\"},\n",
    "    \"export\": {\"transaction\": \"P6\", \"sector\": \"S1\", \"expenditure\": \"_Z\", \"table\": \"T0102\"},\n",
    "    \"import\": {\"transaction\": \"P7\", \"sector\": \"S1\", \"expenditure\": \"_Z\", \"table\": \"T0102\"},\n",
    "    \"real_gdp_per\": {\"transaction\": \"B1GQ_POP\", \"sector\": \"S1\", \"table\": \"T0102\"},\n",
    "    \"population\": {\"transaction\": \"POP\", \"sector\": \"S1\", \"table\": \"T0110\"},\n",
    "    \"employment\": {\"transaction\": \"EMP\", \"sector\": \"S1\", \"table\": \"T0110\", \"expenditure\": \"_T\"},\n",
    "    \"unemployment\": {\"transaction\": \"UNE_LF_Q\", \"sector\": \"S1\"},\n",
    "    \"saving\": {\"transaction\": \"B8GS1M_B6GA\", \"sector\": \"S1\"},\n",
    "}\n"
   ]
  },
  {
   "cell_type": "code",
   "execution_count": null,
   "id": "8ddbf308",
   "metadata": {},
   "outputs": [],
   "source": []
  },
  {
   "cell_type": "code",
   "execution_count": null,
   "id": "d02b5429",
   "metadata": {},
   "outputs": [],
   "source": []
  },
  {
   "cell_type": "code",
   "execution_count": null,
   "id": "c5ad13c5",
   "metadata": {},
   "outputs": [],
   "source": []
  }
 ],
 "metadata": {
  "kernelspec": {
   "display_name": "forecasting_lecture",
   "language": "python",
   "name": "python3"
  },
  "language_info": {
   "codemirror_mode": {
    "name": "ipython",
    "version": 3
   },
   "file_extension": ".py",
   "mimetype": "text/x-python",
   "name": "python",
   "nbconvert_exporter": "python",
   "pygments_lexer": "ipython3",
   "version": "3.9.21"
  }
 },
 "nbformat": 4,
 "nbformat_minor": 5
}
