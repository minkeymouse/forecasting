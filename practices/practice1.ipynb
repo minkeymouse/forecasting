{
 "cells": [
  {
   "cell_type": "markdown",
   "metadata": {},
   "source": [
    "# 경제 분석 및 예측과 데이터 지능 실습1: Getting Started\n",
    "\n",
    "본 실습은 파이썬 전반에 대한 기초적인 내용을 아주 간략하게 담고 있습니다.\n",
    "\n",
    "처음 파이썬을 접하시는 경우 눈으로 따라오는 것 만으로는 익숙해지기 쉽지 않다고 생각합니다.\n",
    "\n",
    "직접 실행도 시켜보고 일부 코드도 바꿔보며 익숙해지시기 바랍니다.\n",
    "\n",
    "References:\n",
    "- [University of Florida Python Basics for Physics](https://cmp.phys.ufl.edu/files/python-tutorial.html)\n",
    "- [점프투 파이썬](https://wikidocs.net/book/1)"
   ]
  },
  {
   "cell_type": "markdown",
   "metadata": {},
   "source": [
    "### 목차"
   ]
  },
  {
   "cell_type": "markdown",
   "metadata": {},
   "source": [
    "1. 파이썬 기초\n",
    "- Jupyter Notebook에 대한 간단한 소개\n",
    "- Type, Operator\n",
    "- Control flow\n",
    "- Functions\n",
    "- Classes\n",
    "\n",
    "2. 모듈\n",
    "- Numpy\n",
    "- Pandas\n",
    "- Matplotlib\n",
    "\n",
    "3. ARMA 추정 실습"
   ]
  },
  {
   "cell_type": "markdown",
   "metadata": {},
   "source": [
    "## 1. 파이썬 기초"
   ]
  },
  {
   "cell_type": "markdown",
   "metadata": {},
   "source": [
    "### Notebook Editor\n",
    "\n",
    "쥬피터 노트북에 대한 간단한 설명"
   ]
  },
  {
   "cell_type": "markdown",
   "metadata": {},
   "source": [
    "쥬피터 노트북의 셀은 CODE, MARKDOWN, RAW의 세 종류를 지정할 수 있습니다. Markdown으로 변경하려면 M을 누르고, CODE로 변경하려면 다시 Y를 누르면 됩니다.\n",
    "\n",
    "이 셀은 'MARKDOWN' 셀입니다. 마크다운에 대한 설명은 [여기](https://gist.github.com/ihoneymon/652be052a0727ad59601) 를 참고하세요. ESC를 누르면 마크다운 수정 후 결과를 볼 수 있습니다. SHIFT+ENTER를 눌러도 됩니다.\n",
    "\n",
    "아래는 CODE 셀입니다. 마찬가지로 SHIFT+ENTER를 누르면 안에 있는 코드가 실행됩니다."
   ]
  },
  {
   "cell_type": "code",
   "execution_count": 1,
   "metadata": {},
   "outputs": [
    {
     "name": "stdout",
     "output_type": "stream",
     "text": [
      "Hello World!\n"
     ]
    }
   ],
   "source": [
    "print(\"Hello World!\")    # 해시태그 옆에는 주석을 달 수 있습니다.\n",
    "# print(\"Hello World!\")    이 줄은 실행되지 않습니다."
   ]
  },
  {
   "cell_type": "markdown",
   "metadata": {},
   "source": [
    "변수로 저장한 값을 텍스트로 아래처럼 출력할 수 도 있습니다."
   ]
  },
  {
   "cell_type": "code",
   "execution_count": 2,
   "metadata": {},
   "outputs": [
    {
     "name": "stdout",
     "output_type": "stream",
     "text": [
      "Hello World! from Python\n"
     ]
    }
   ],
   "source": [
    "s = \"Hello World!\"    # s 변수를 선언하고 문자열을 할당합니다.\n",
    "print(f'{s} from Python')    # s는 선언된 변수입니다."
   ]
  },
  {
   "cell_type": "markdown",
   "metadata": {},
   "source": [
    "### Type, Operator\n",
    "\n",
    "변수 타입 및 연산자에 대한 기본 예제"
   ]
  },
  {
   "cell_type": "markdown",
   "metadata": {},
   "source": [
    "파이썬의 변수들은 '포인터' 입니다. JAVA, C++같은 다른 프로그래밍 언어와 달리 데이터 타입을 지정하지 않고도 변수를 선언할 수 있다는 특징이 있습니다."
   ]
  },
  {
   "cell_type": "code",
   "execution_count": 3,
   "metadata": {},
   "outputs": [],
   "source": [
    "x = 17           # x는 정수입니다.\n",
    "y = 2.3          # y는 부동 소수점 숫자입니다.\n",
    "z = 'hello'      # z는 문자열입니다.\n",
    "b = True         # b는 논리 연산자 입니다.\n",
    "l = [1, 2, 3]    # l은 리스트입니다.\n",
    "t = (4, 5, 6)    # t는 튜플입니다.\n",
    "d = {'a': 7, 'b': 8, 'c': 9}    # d는 딕셔너리입니다.\n",
    "s = {10, 11, 12}    # s는 집합입니다."
   ]
  },
  {
   "cell_type": "markdown",
   "metadata": {},
   "source": [
    "변수들을 활용한 기초적인 연산은 아래와 같습니다."
   ]
  },
  {
   "cell_type": "code",
   "execution_count": 4,
   "metadata": {},
   "outputs": [
    {
     "name": "stdout",
     "output_type": "stream",
     "text": [
      "17 / 2 = 8.5\n",
      "17 // 2 = 8\n",
      "17 % 2 = 1\n",
      "17 ** 2 = 289\n"
     ]
    }
   ],
   "source": [
    "print(f'{x} / 2 = {x/2}')    # 나눗셈은 기본적으로 부동 소수점 숫자를 반환합니다.\n",
    "print(f'{x} // 2 = {x//2}')    # 몫 연산자는 정수를 반환합니다.\n",
    "print(f'{x} % 2 = {x%2}')    # 나머지 연산자는 나머지를 반환합니다.\n",
    "print(f'{x} ** 2 = {x**2}')    # 거듭제곱 연산자는 거듭제곱을 반환합니다."
   ]
  },
  {
   "cell_type": "code",
   "execution_count": 5,
   "metadata": {},
   "outputs": [
    {
     "data": {
      "text/plain": [
       "True"
      ]
     },
     "execution_count": 5,
     "metadata": {},
     "output_type": "execute_result"
    }
   ],
   "source": [
    "x != 20    # x는 20이 아닙니다.\n",
    "x == 20    # x는 20입니다.\n",
    "x > 20     # x는 20보다 큽니다.\n",
    "x >= 20    # x는 20보다 크거나 같습니다.\n",
    "x < 20     # x는 20보다 작습니다.\n",
    "x <= 20    # x는 20보다 작거나 같습니다."
   ]
  },
  {
   "cell_type": "code",
   "execution_count": 6,
   "metadata": {},
   "outputs": [
    {
     "data": {
      "text/plain": [
       "False"
      ]
     },
     "execution_count": 6,
     "metadata": {},
     "output_type": "execute_result"
    }
   ],
   "source": [
    "(x > 20) or (x == 17)    # x는 20보다 크거나 17과 같습니다.\n",
    "(x > 20) and (x == 17)    # x는 20보다 크고 17과 같습니다.\n",
    "not (x == 17)    # x는 17이 아닙니다."
   ]
  },
  {
   "cell_type": "markdown",
   "metadata": {},
   "source": [
    "아래는 리스트를 활용한 다양한 연산입니다. 파이썬 언어의 리스트 인덱스는 '0'부터 시작함에 유의하세요"
   ]
  },
  {
   "cell_type": "code",
   "execution_count": 7,
   "metadata": {},
   "outputs": [
    {
     "name": "stdout",
     "output_type": "stream",
     "text": [
      "[1, 2, 3]\n"
     ]
    }
   ],
   "source": [
    "# 리스트를 출력합니다.\n",
    "print(l)"
   ]
  },
  {
   "cell_type": "code",
   "execution_count": 8,
   "metadata": {},
   "outputs": [
    {
     "name": "stdout",
     "output_type": "stream",
     "text": [
      "[0, 1, 2, 3, 4, 5, 6, 7, 8, 9]\n",
      "[0, 5, 2, 3, 4, 5, 6, 7, 8, 9]\n",
      "[8, 7, 6, 5, 5, 4, 3]\n",
      "list [] has length 0.\n"
     ]
    }
   ],
   "source": [
    "l.append(4)    # 리스트에 4를 추가합니다.\n",
    "l.extend([5, 6])    # 리스트에 5와 6을 추가합니다.\n",
    "l.insert(0, 0)    # 리스트의 첫 번째 위치에 0을 추가합니다.\n",
    "l += [7]    # 리스트에 7을 추가합니다.\n",
    "l += [8, 9]    # 리스트에 8과 9를 추가합니다.\n",
    "print(l)\n",
    "l[0]    # 리스트의 첫 번째 요소를 가져옵니다.\n",
    "l[1] = 5    # 리스트의 두 번째 요소를 변경합니다.\n",
    "l[1:3]    # 리스트의 두 번째와 세 번째 요소를 가져옵니다.\n",
    "l[2:]    # 리스트의 세 번째 요소부터 끝까지를 가져옵니다.\n",
    "l[:2]    # 리스트의 첫 번째와 두 번째 요소를 가져옵니다.\n",
    "l[-1]    # 리스트의 마지막 요소를 가져옵니다.\n",
    "print(l)\n",
    "l.pop()    # 리스트의 마지막 요소를 제거하고 반환합니다.\n",
    "l.pop(0)    # 리스트의 첫 번째 요소를 제거하고 반환합니다.\n",
    "l.index(2)    # 리스트에서 2의 인덱스를 반환합니다.\n",
    "l.remove(2)    # 리스트에서 2를 제거합니다.\n",
    "l.count(2)    # 리스트에서 2의 개수를 반환합니다.\n",
    "l.sort()    # 리스트를 정렬합니다.\n",
    "l.reverse()    # 리스트를 뒤집습니다.\n",
    "print(l)\n",
    "l.clear()    # 리스트를 비웁니다.\n",
    "n = len(l)    # 리스트의 길이를 반환합니다.\n",
    "print(f'list {l} has length {n}.')\n",
    "\n",
    "# 리스트를 재정의 해 줍니다\n",
    "l = [1, 2, 3]"
   ]
  },
  {
   "cell_type": "code",
   "execution_count": 9,
   "metadata": {},
   "outputs": [
    {
     "name": "stdout",
     "output_type": "stream",
     "text": [
      "[1, 2, 3]\n",
      "[1, 2, 3, 1, 2, 3]\n",
      "['h', 'e', 'l', 'l', 'o']\n"
     ]
    }
   ],
   "source": [
    "l * 3    # 리스트를 세 번 반복합니다.\n",
    "l + [4, 5, 6]    # 리스트에 4, 5, 6을 추가합니다.\n",
    "print(l)\n",
    "print(l + l)    # 리스트끼리 더하면 두 리스트가 합쳐집니다.\n",
    "(z + \" world. \") * 5    # 문자열은 곱셈 연산자를 사용하여 반복할 수 있습니다.\n",
    "print(list(z))   # 문자열을 리스트로 변환합니다."
   ]
  },
  {
   "cell_type": "markdown",
   "metadata": {},
   "source": [
    "딕셔너리는 `key`와 `value`의 쌍으로 이루어져 있습니다."
   ]
  },
  {
   "cell_type": "code",
   "execution_count": 10,
   "metadata": {},
   "outputs": [
    {
     "name": "stdout",
     "output_type": "stream",
     "text": [
      "{'a': 7, 'b': 8, 'c': 9}\n",
      "{'a': 7, 'c': 9, 'd': 10}\n",
      "{}\n"
     ]
    }
   ],
   "source": [
    "print(d)\n",
    "d['a']    # 딕셔너리에서 'a'의 값을 가져옵니다.\n",
    "d['d'] = 10    # 딕셔너리에 'd'를 추가합니다.\n",
    "del d['b']    # 딕셔너리에서 'b'를 제거합니다.\n",
    "print(d)\n",
    "d.keys()    # 딕셔너리의 키를 반환합니다.\n",
    "d.values()    # 딕셔너리의 값들을 반환합니다.\n",
    "d.items()    # 딕셔너리의 키와 값들을 반환합니다.\n",
    "d.get('a')    # 딕셔너리에서 'a'의 값을 가져옵니다.\n",
    "d.pop('a')    # 딕셔너리에서 'a'를 제거하고 값을 반환합니다.\n",
    "d.clear()    # 딕셔너리를 비웁니다.\n",
    "print(d)\n",
    "\n",
    "# 딕셔너리를 재정의 해 줍니다.\n",
    "d = {'a': 7, 'b': 8, 'c': 9} "
   ]
  },
  {
   "cell_type": "markdown",
   "metadata": {},
   "source": [
    "튜플은 함부로 수정할 수 없는 리스트라고 이해하면 좋고 집합(set)은 수학에서 흔하게 활용되는 집합으로 이해하면 됩니다. 집합의 특징은 순서(index)가 없습니다."
   ]
  },
  {
   "cell_type": "markdown",
   "metadata": {},
   "source": [
    "### Control Flow\n",
    "\n",
    "조건문 및 반복문 사용 예제"
   ]
  },
  {
   "cell_type": "markdown",
   "metadata": {},
   "source": [
    "`if` 와 `for` 문을 활용한 기초적인 제어문 입니다. 파이썬은 `들여쓰기`로 코드의 범위를 구분 하는 것에 유의해야 합니다."
   ]
  },
  {
   "cell_type": "code",
   "execution_count": 11,
   "metadata": {},
   "outputs": [
    {
     "name": "stdout",
     "output_type": "stream",
     "text": [
      "7 is positive\n"
     ]
    }
   ],
   "source": [
    "x = 7\n",
    "if x == False:    # x가 False와 같은지 확인합니다.\n",
    "    print(f'{x} is zero')\n",
    "elif x > 0:\n",
    "    print(f'{x} is positive')\n",
    "elif x in l:    # x가 리스트 l에 포함되어 있는지 확인합니다.\n",
    "    print(f'{x} belongs to {l}')\n",
    "else:\n",
    "    print(f'{x} not found.')"
   ]
  },
  {
   "cell_type": "markdown",
   "metadata": {},
   "source": [
    "아래는 `for` 루프문 입니다. `while` 루프를 활용한 구문도 비슷합니다."
   ]
  },
  {
   "cell_type": "code",
   "execution_count": 12,
   "metadata": {},
   "outputs": [
    {
     "name": "stdout",
     "output_type": "stream",
     "text": [
      "Hello World #0\n",
      "Hello World #1\n",
      "Hello World #2\n",
      "Hello World #3\n",
      "Hello World #4\n",
      "Hello World #5\n",
      "Hello World #6\n",
      "The `for` loop has ended.\n"
     ]
    }
   ],
   "source": [
    "n = 10    # 몇번 반복할지 정합니다.\n",
    "for i in range(n):    # range()함수는 0부터 n-1까지의 숫자를 생성합니다.\n",
    "    print(f\"Hello World #{i}\")    # 각 반복마다 Hello World를 출력합니다.\n",
    "    if i > 5:\n",
    "        break    # 반복문을 종료합니다.\n",
    "    else:\n",
    "        continue    # 다음 반복으로 넘어갑니다.\n",
    "    print(\"This line will not be printed.\")    # 이 줄은 실행되지 않습니다.\n",
    "else:    # `for`문이 정상적으로 종료되면 실행됩니다.\n",
    "    print('Finished printing the full list.')    # 이 줄은 실행됩니다.\n",
    "print('The `for` loop has ended.')    # 이 줄은 실행됩니다."
   ]
  },
  {
   "cell_type": "markdown",
   "metadata": {},
   "source": [
    "`n`을 바꿔가면서 실행해 보세요"
   ]
  },
  {
   "cell_type": "markdown",
   "metadata": {},
   "source": [
    "리스트의 각 element에 대해 반복을 할 수도 있습니다."
   ]
  },
  {
   "cell_type": "code",
   "execution_count": 13,
   "metadata": {},
   "outputs": [
    {
     "name": "stdout",
     "output_type": "stream",
     "text": [
      "7 <class 'int'>\n",
      "2.3 <class 'float'>\n",
      "hello <class 'str'>\n"
     ]
    }
   ],
   "source": [
    "mixed = [x, y, z]    # 변수들로 이루어진 리스트를 생성합니다.\n",
    "for e in mixed:    # 리스트의 각 요소에 대해 반복합니다.\n",
    "    print(e, type(e))    # 요소와 요소의 타입을 출력합니다."
   ]
  },
  {
   "cell_type": "markdown",
   "metadata": {},
   "source": [
    "위의 반복문은 인덱스를 활용하게 되면 아래와 같이 쓸 수도 있습니다."
   ]
  },
  {
   "cell_type": "code",
   "execution_count": 14,
   "metadata": {},
   "outputs": [
    {
     "name": "stdout",
     "output_type": "stream",
     "text": [
      "7 <class 'int'>\n",
      "2.3 <class 'float'>\n",
      "hello <class 'str'>\n"
     ]
    }
   ],
   "source": [
    "for i in range(len(mixed)):\n",
    "    e = mixed[i]\n",
    "    print(e, type(e))"
   ]
  },
  {
   "cell_type": "markdown",
   "metadata": {},
   "source": [
    "### Functions"
   ]
  },
  {
   "cell_type": "markdown",
   "metadata": {},
   "source": [
    "#### 함수의 개념\n",
    "\n",
    "함수는 입력값(인수)을 받아서 특정 작업을 수행한 후 결과(리턴값)를 돌려주는 코드 블록입니다. 마치 믹서에 과일을 넣어 주스를 만드는 것처럼, 함수는 “입력 → 처리 → 출력”의 과정을 거칩니다.\n",
    "\n",
    "#### 함수를 사용하는 이유\n",
    "\n",
    "- 코드 재사용 및 유지보수: 반복되는 코드를 하나의 함수로 묶어 여러 번 호출할 수 있습니다.\n",
    "- 프로그램 구조화: 프로그램을 기능 단위로 나누어 흐름을 명확히 하고, 디버깅을 쉽게 합니다.\n",
    "\n",
    "#### 파이썬 함수의 기본 구조"
   ]
  },
  {
   "cell_type": "code",
   "execution_count": 15,
   "metadata": {},
   "outputs": [],
   "source": [
    "def 함수명(매개변수):\n",
    "    # 수행할 문장들\n",
    "    return 리턴값"
   ]
  },
  {
   "cell_type": "markdown",
   "metadata": {},
   "source": [
    "매개변수는 함수가 입력받는 값이며, 인수를 통해 실제 값을 전달받습니다.\n",
    "\n",
    "#### 함수의 다양한 형태"
   ]
  },
  {
   "cell_type": "code",
   "execution_count": 16,
   "metadata": {},
   "outputs": [
    {
     "name": "stdout",
     "output_type": "stream",
     "text": [
      "7\n"
     ]
    }
   ],
   "source": [
    "# 일반 함수: 입력값과 리턴값이 모두 있는 함수 \n",
    "def add(a, b):\n",
    "    return a + b\n",
    "\n",
    "# 입력값이 없는 함수\n",
    "def say():\n",
    "    return 'Hi'\n",
    "\n",
    "# 리턴값이 없는 함수\n",
    "def add_no_return(a, b):\n",
    "    print(f'{a} + {b} = {a + b}')\n",
    "\n",
    "# 입력값도 리턴값도 없는 함수\n",
    "def say_no_return():\n",
    "    print('Hi')\n",
    "\n",
    "# *args를 사용하면 입력값의 개수가 정해지지 않은 경우 튜플로 받아 처리할 수 있습니다.\n",
    "def add_many(*args):\n",
    "    result = 0\n",
    "    for num in args:\n",
    "        result += num\n",
    "    return result\n",
    "\n",
    "# **kwargs를 사용하면 키워드 인자들을 딕셔너리 형태로 받아 처리할 수 있습니다.\n",
    "def print_kwargs(**kwargs):\n",
    "    print(kwargs)\n",
    "\n",
    "# lambda 함수\n",
    "\n",
    "add_lambda = lambda a, b: a + b\n",
    "print(add_lambda(3, 4))  # 출력: 7\n"
   ]
  },
  {
   "cell_type": "markdown",
   "metadata": {},
   "source": [
    "함수는 항상 하나의 리턴값을 돌려줍니다. 여러 값을 반환할 경우 튜플로 반환됩니다.\n",
    "\n",
    "return 문을 만나면 즉시 함수 실행이 종료되며, 이후 코드는 실행되지 않습니다.\n",
    "\n",
    "또한 함수 내부에서 정의된 매개변수 및 변수는 함수 외부와 독립적입니다."
   ]
  },
  {
   "cell_type": "code",
   "execution_count": 17,
   "metadata": {},
   "outputs": [
    {
     "name": "stdout",
     "output_type": "stream",
     "text": [
      "simple_add: 3\n",
      "simple_say: Hi\n",
      "1 + 2 = 3\n",
      "Hi\n",
      "{'a': 1, 'b': 2, 'c': 3}\n"
     ]
    }
   ],
   "source": [
    "simple_add = add(1, 2)    # 1과 2를 더합니다.\n",
    "print(f'simple_add: {simple_add}')\n",
    "simple_say = say()    # Hi를 출력합니다.\n",
    "print(f'simple_say: {simple_say}')\n",
    "add_no_return(1, 2)    # 1과 2를 더한 값을 출력합니다.\n",
    "say_no_return()    # Hi를 출력합니다.\n",
    "add_many(1, 2, 3, 4, 5)    # 1부터 5까지 더한 값을 출력합니다.\n",
    "print_kwargs(a=1, b=2, c=3)    # a, b, c를 출력합니다. "
   ]
  },
  {
   "cell_type": "markdown",
   "metadata": {},
   "source": [
    "### Classes"
   ]
  },
  {
   "cell_type": "markdown",
   "metadata": {},
   "source": [
    "#### 클래스의 정의"
   ]
  },
  {
   "cell_type": "markdown",
   "metadata": {},
   "source": [
    "- `클래스(Class)`는 객체를 생성하기 위한 설계도(일종의 과자 틀)입니다.\n",
    "- `객체(Object) 또는 인스턴스(Instance)`는 클래스로부터 만들어진 실체이며, 각각 독립적인 속성과 동작(메서드)을 가집니다.\n",
    "\n",
    "#### 클래스가 필요한 이유\n",
    "- 코드 재사용 및 유지보수: 여러 객체에서 공통 기능을 정의하여 반복 코드를 줄이고, 수정 시 한 곳만 수정하면 됩니다.\n",
    "- 데이터와 기능의 결합: 관련 데이터(속성)와 데이터를 처리하는 기능(메서드)을 하나의 단위로 묶어 프로그램 구조를 명확히 합니다.\n",
    "- 확장성: 상속(Inheritance)과 메서드 오버라이딩을 통해 기존 클래스를 확장하거나 수정하여 다양한 기능을 손쉽게 추가할 수 있습니다."
   ]
  },
  {
   "cell_type": "code",
   "execution_count": 18,
   "metadata": {},
   "outputs": [],
   "source": [
    "# 사칙연산 기능을 가진 계산기 클래스를 정의합니다.\n",
    "\n",
    "class FourCal:\n",
    "    # 생성자: 객체 생성 시 자동 호출되어 객체변수를 초기화합니다.\n",
    "    def __init__(self, first, second):\n",
    "        self.first = first\n",
    "        self.second = second\n",
    "\n",
    "    # 두 수의 합을 리턴하는 메서드\n",
    "    def add(self):\n",
    "        return self.first + self.second\n",
    "\n",
    "    # 두 수의 차를 리턴하는 메서드\n",
    "    def sub(self):\n",
    "        return self.first - self.second\n",
    "\n",
    "    # 두 수의 곱을 리턴하는 메서드\n",
    "    def mul(self):\n",
    "        return self.first * self.second\n",
    "\n",
    "    # 두 수의 나눗셈을 리턴하는 메서드 (0으로 나눌 경우 0을 리턴)\n",
    "    def div(self):\n",
    "        if self.second == 0:\n",
    "            return 0\n",
    "        return self.first / self.second"
   ]
  },
  {
   "cell_type": "code",
   "execution_count": 19,
   "metadata": {},
   "outputs": [
    {
     "name": "stdout",
     "output_type": "stream",
     "text": [
      "6\n",
      "8\n"
     ]
    }
   ],
   "source": [
    "# 객체 생성 및 메서드 사용 예제\n",
    "a = FourCal(4, 2)\n",
    "print(a.add())  # 출력: 6\n",
    "print(a.mul())  # 출력: 8"
   ]
  },
  {
   "cell_type": "markdown",
   "metadata": {},
   "source": [
    "#### 클래스와 객체의 관계\n",
    "\n",
    "- 클래스는 객체를 만들기 위한 설계도이며, 한 클래스에서 여러 객체(인스턴스)를 생성할 수 있습니다.\n",
    "- 각 객체는 클래스에서 정의한 속성(예: a.first, a.second)과 메서드(add, sub 등)를 가지며, 서로 독립적으로 동작합니다.\n",
    "\n",
    "#### 상속과 메서드 오버라이딩\n",
    "- 상속(Inheritance): 기존 클래스를 확장하여 새로운 기능을 추가할 수 있습니다.\n",
    "- 메서드 오버라이딩: 상속받은 클래스에서 부모 클래스의 메서드를 같은 이름으로 재정의하여, 필요에 따라 기능을 변경할 수 있습니다.\n",
    "- 예를 들어, FourCal 클래스를 상속받아 거듭제곱 기능을 추가한 MoreFourCal 클래스를 만들어 보겠습니다."
   ]
  },
  {
   "cell_type": "code",
   "execution_count": 20,
   "metadata": {},
   "outputs": [
    {
     "name": "stdout",
     "output_type": "stream",
     "text": [
      "16\n"
     ]
    }
   ],
   "source": [
    "class MoreFourCal(FourCal):\n",
    "    def pow(self):\n",
    "        return self.first ** self.second\n",
    "\n",
    "b = MoreFourCal(4, 2)\n",
    "print(b.pow())  # 출력: 16"
   ]
  },
  {
   "cell_type": "markdown",
   "metadata": {},
   "source": [
    "#### 클래스 변수\n",
    "클래스 변수는 클래스 내에 정의된 변수로, 해당 클래스로 생성된 모든 객체가 공유합니다."
   ]
  },
  {
   "cell_type": "code",
   "execution_count": 21,
   "metadata": {},
   "outputs": [],
   "source": [
    "# Family 클래스: 1세대 가족을 표현합니다.\n",
    "class Family:\n",
    "    # 클래스 변수: 모든 Family 객체가 공유하는 국적 (초기값: South Korean)\n",
    "    nationality = \"South Korean\"\n",
    "    \n",
    "    def __init__(self, parents=None, kids=None):\n",
    "        # 인스턴스 변수: 각 Family 객체별로 고유한 부모, 자녀 목록을 저장합니다.\n",
    "        if parents is None:\n",
    "            parents = []\n",
    "        if kids is None:\n",
    "            kids = []\n",
    "        self.parents = parents\n",
    "        self.kids = kids\n",
    "    \n",
    "    def show_members(self):\n",
    "        \"\"\"가족 구성원과 현재 국적을 출력합니다.\"\"\"\n",
    "        print(\"Parents:\", self.parents)\n",
    "        print(\"Kids:\", self.kids)\n",
    "        print(\"Nationality:\", self.nationality)\n",
    "    \n",
    "    def change_nationality(self, new_nationality):\n",
    "        \"\"\"클래스 변수를 변경하여 모든 가족의 국적을 변경합니다.\"\"\"\n",
    "        Family.nationality = new_nationality\n",
    "        print(f\"Nationality changed to {new_nationality} for all families!\")\n",
    "    \n",
    "    def add_kid(self, kid_name):\n",
    "        \"\"\"자녀를 추가합니다.\"\"\"\n",
    "        self.kids.append(kid_name)\n",
    "\n",
    "\n",
    "# NextGenerationFamily 클래스: Family 클래스를 상속받아 2세대 가족을 표현합니다.\n",
    "# 조부모 정보는 부모 세대 Family 객체들의 부모 목록을 결합하여 자동으로 도출됩니다.\n",
    "class NextGenerationFamily(Family):\n",
    "    def __init__(self, parents=None, kids=None, parent_families=None):\n",
    "        # 부모 클래스의 __init__을 호출하여 parents와 kids를 초기화합니다.\n",
    "        super().__init__(parents, kids)\n",
    "        # 조부모 목록 초기화\n",
    "        self.grandparents = []\n",
    "        # parent_families: 1세대 가족 객체들의 리스트를 전달받아 조부모를 도출합니다.\n",
    "        if parent_families is not None:\n",
    "            for fam in parent_families:\n",
    "                self.grandparents.extend(fam.parents)\n",
    "    \n",
    "    # 부모 클래스의 show_members()를 오버라이딩하여 조부모 정보도 함께 출력합니다.\n",
    "    def show_members(self):\n",
    "        super().show_members()\n",
    "        print(\"Grandparents:\", self.grandparents)\n"
   ]
  },
  {
   "cell_type": "markdown",
   "metadata": {},
   "source": [
    "#### 사례 시나리오\n",
    "\n",
    "Generation 1:\n",
    "- Family1: Tom과 Susan, 자녀: Michael, John\n",
    "- Family2: Josh와 Sarah, 자녀: Maddison, Conner\n",
    "\n",
    "Generation 2:\n",
    "- Michael와 Maddison이 결혼하여 자녀 Yuna를 둡니다.\n",
    "  → 조부모: Tom, Susan, Josh, Sarah\n",
    "\n",
    "초기 국적은 \"South Korean\"이며, 이후 \"Canadian\"으로 변경된다고 가정"
   ]
  },
  {
   "cell_type": "code",
   "execution_count": 22,
   "metadata": {},
   "outputs": [
    {
     "name": "stdout",
     "output_type": "stream",
     "text": [
      "=== Generation 1 Families ===\n",
      "Family 1:\n",
      "Parents: ['Tom', 'Susan']\n",
      "Kids: ['Michael', 'John']\n",
      "Nationality: South Korean\n",
      "\n",
      "Family 2:\n",
      "Parents: ['Josh', 'Sarah']\n",
      "Kids: ['Maddison', 'Conner']\n",
      "Nationality: South Korean\n"
     ]
    }
   ],
   "source": [
    "# Generation 1 가족 객체 생성\n",
    "family1 = Family(parents=[\"Tom\", \"Susan\"], kids=[\"Michael\", \"John\"])\n",
    "family2 = Family(parents=[\"Josh\", \"Sarah\"], kids=[\"Maddison\", \"Conner\"])\n",
    "\n",
    "print(\"=== Generation 1 Families ===\")\n",
    "print(\"Family 1:\")\n",
    "family1.show_members()\n",
    "print(\"\\nFamily 2:\")\n",
    "family2.show_members()"
   ]
  },
  {
   "cell_type": "code",
   "execution_count": 23,
   "metadata": {},
   "outputs": [
    {
     "name": "stdout",
     "output_type": "stream",
     "text": [
      "\n",
      "=== Generation 2 Family ===\n",
      "Parents: ['Michael', 'Maddison']\n",
      "Kids: ['Yuna']\n",
      "Nationality: South Korean\n",
      "Grandparents: ['Tom', 'Susan', 'Josh', 'Sarah']\n"
     ]
    }
   ],
   "source": [
    "# Generation 2 가족 객체 생성\n",
    "# Michael (family1의 자녀)와 Maddison (family2의 자녀)이 결혼하여 Yuna라는 자녀를 둡니다.\n",
    "family3 = NextGenerationFamily(\n",
    "    parents=[\"Michael\", \"Maddison\"],\n",
    "    kids=[\"Yuna\"],\n",
    "    parent_families=[family1, family2]\n",
    ")\n",
    "\n",
    "print(\"\\n=== Generation 2 Family ===\")\n",
    "family3.show_members()"
   ]
  },
  {
   "cell_type": "code",
   "execution_count": 24,
   "metadata": {},
   "outputs": [
    {
     "name": "stdout",
     "output_type": "stream",
     "text": [
      "\n",
      "=== Changing Nationality to Canadian ===\n",
      "\n",
      "=== Nationality After Change ===\n",
      "Family 1:\n",
      "Parents: ['Tom', 'Susan']\n",
      "Kids: ['Michael', 'John']\n",
      "Nationality: South Korean\n",
      "\n",
      "Family 2:\n",
      "Parents: ['Josh', 'Sarah']\n",
      "Kids: ['Maddison', 'Conner']\n",
      "Nationality: South Korean\n",
      "\n",
      "Family 3:\n",
      "Parents: ['Michael', 'Maddison']\n",
      "Kids: ['Yuna']\n",
      "Nationality: Canadian\n",
      "Grandparents: ['Tom', 'Susan', 'Josh', 'Sarah']\n"
     ]
    }
   ],
   "source": [
    "# 국적 변경: 한 가족의 국적만 \"Canadian\"으로 변경.\n",
    "print(\"\\n=== Changing Nationality to Canadian ===\")\n",
    "family3.nationality = \"Canadian\"\n",
    "\n",
    "print(\"\\n=== Nationality After Change ===\")\n",
    "print(\"Family 1:\")\n",
    "family1.show_members()\n",
    "print(\"\\nFamily 2:\")\n",
    "family2.show_members()\n",
    "print(\"\\nFamily 3:\")\n",
    "family3.show_members()"
   ]
  },
  {
   "cell_type": "code",
   "execution_count": 25,
   "metadata": {},
   "outputs": [
    {
     "name": "stdout",
     "output_type": "stream",
     "text": [
      "\n",
      "=== Changing Nationality to Canadian ===\n",
      "Nationality changed to Canadian for all families!\n",
      "\n",
      "=== Nationality After Change ===\n",
      "Family 1:\n",
      "Parents: ['Tom', 'Susan']\n",
      "Kids: ['Michael', 'John']\n",
      "Nationality: Canadian\n",
      "\n",
      "Family 2:\n",
      "Parents: ['Josh', 'Sarah']\n",
      "Kids: ['Maddison', 'Conner']\n",
      "Nationality: Canadian\n",
      "\n",
      "Family 3:\n",
      "Parents: ['Michael', 'Maddison']\n",
      "Kids: ['Yuna']\n",
      "Nationality: Canadian\n",
      "Grandparents: ['Tom', 'Susan', 'Josh', 'Sarah']\n"
     ]
    }
   ],
   "source": [
    "# 국적 변경: 모든 가족의 국적이 \"Canadian\"으로 변경\n",
    "print(\"\\n=== Changing Nationality to Canadian ===\")\n",
    "family3.change_nationality(\"Canadian\")\n",
    "\n",
    "print(\"\\n=== Nationality After Change ===\")\n",
    "print(\"Family 1:\")\n",
    "family1.show_members()\n",
    "print(\"\\nFamily 2:\")\n",
    "family2.show_members()\n",
    "print(\"\\nFamily 3:\")\n",
    "family3.show_members()"
   ]
  },
  {
   "cell_type": "markdown",
   "metadata": {},
   "source": [
    "## 2. 모듈"
   ]
  },
  {
   "cell_type": "markdown",
   "metadata": {},
   "source": [
    "모듈은 함수, 클래스, 변수 등이 정의되어 있는 파일로, 한 번 작성한 코드를 여러 프로그램에서 재사용할 수 있게 해줍니다.\n",
    "\n",
    "#### 모듈의 장점\n",
    "- 재사용성: 여러 프로젝트나 파일에서 동일한 기능을 사용하고 싶을 때, 모듈을 import하여 중복 코드를 줄일 수 있습니다.\n",
    "- 조직화: 관련 있는 코드들을 한 파일에 모아두면 관리와 유지보수가 쉬워집니다.\n",
    "\n",
    "#### 모듈 사용법\n",
    "- import 문: 모듈 전체를 불러올 때는 import 모듈명을 사용합니다.\n",
    "- 긴 모듈 이름을 짧게 사용하고 싶을 때는 as 키워드를 사용해 별칭을 부여할 수 있습니다."
   ]
  },
  {
   "cell_type": "code",
   "execution_count": 26,
   "metadata": {},
   "outputs": [],
   "source": [
    "import numpy as np\n",
    "import pandas as pd\n",
    "import matplotlib.pyplot as plt"
   ]
  },
  {
   "cell_type": "markdown",
   "metadata": {},
   "source": [
    "### Numpy"
   ]
  },
  {
   "cell_type": "markdown",
   "metadata": {},
   "source": [
    "- NumPy는 Python에서 고성능 수치 계산을 위한 핵심 라이브러리입니다.\n",
    "- NumPy는 다차원 배열 객체(ndarray)를 제공하며, 벡터화 연산, 선형대수, 통계, 그리고 다양한 수학 함수들을 효율적으로 수행할 수 있습니다.\n",
    "\n",
    "#### 배열 생성\n",
    "NumPy 배열은 Python 리스트를 사용하거나, np.arange(), np.linspace(), np.zeros(), np.ones()와 같은 함수를 통해 생성할 수 있습니다."
   ]
  },
  {
   "cell_type": "code",
   "execution_count": 27,
   "metadata": {},
   "outputs": [
    {
     "name": "stdout",
     "output_type": "stream",
     "text": [
      "a = [1 2 3 4 5]\n",
      "b = [0 2 4 6 8]\n",
      "c = [0.   0.25 0.5  0.75 1.  ]\n",
      "zeros =\n",
      " [[0. 0. 0.]\n",
      " [0. 0. 0.]]\n",
      "ones =\n",
      " [[1. 1. 1.]\n",
      " [1. 1. 1.]]\n"
     ]
    }
   ],
   "source": [
    "# 리스트를 배열로 변환하기\n",
    "a = np.array([1, 2, 3, 4, 5])\n",
    "print(\"a =\", a)\n",
    "\n",
    "# np.arange()를 사용하여 배열 생성: 0부터 10 미만까지 2씩 증가하는 배열\n",
    "b = np.arange(0, 10, 2)\n",
    "print(\"b =\", b)\n",
    "\n",
    "# np.linspace()를 사용하여 배열 생성: 0부터 1까지 5개의 숫자를 균등 분포\n",
    "c = np.linspace(0, 1, 5)\n",
    "print(\"c =\", c)\n",
    "\n",
    "# np.zeros()와 np.ones()로 배열 생성\n",
    "zeros = np.zeros((2, 3))\n",
    "ones = np.ones((2, 3))\n",
    "print(\"zeros =\\n\", zeros)\n",
    "print(\"ones =\\n\", ones)"
   ]
  },
  {
   "cell_type": "markdown",
   "metadata": {},
   "source": [
    "#### 배열의 속성과 기본 연산\n",
    "\n",
    "배열은 shape, dtype 등 다양한 속성을 가지며, 벡터화 연산을 지원하여 반복문 없이도 빠른 계산이 가능합니다."
   ]
  },
  {
   "cell_type": "code",
   "execution_count": 28,
   "metadata": {},
   "outputs": [
    {
     "name": "stdout",
     "output_type": "stream",
     "text": [
      "a의 shape: (5,)\n",
      "a의 데이터 타입: int64\n",
      "a + x = [11 22 33 44 55]\n",
      "a * 2 = [ 2  4  6  8 10]\n",
      "a + 100 = [101 102 103 104 105]\n"
     ]
    }
   ],
   "source": [
    "print(\"a의 shape:\", a.shape)\n",
    "print(\"a의 데이터 타입:\", a.dtype)\n",
    "\n",
    "# 배열 간의 기본 산술 연산 (요소별 연산)\n",
    "x = np.array([10, 20, 30, 40, 50])\n",
    "print(\"a + x =\", a + x) # 요소별 덧셈\n",
    "print(\"a * 2 =\", a * 2) # 각 요소에 2를 곱함\n",
    "\n",
    "# 스칼라와 배열 간의 연산 (Broadcasting)\n",
    "print(\"a + 100 =\", a + 100)"
   ]
  },
  {
   "cell_type": "markdown",
   "metadata": {},
   "source": [
    "#### 다차원 배열 및 인덱싱\n",
    "\n",
    "NumPy는 다차원 배열을 쉽게 다룰 수 있으며, 인덱싱과 슬라이싱을 통해 원하는 요소에 접근할 수 있습니다."
   ]
  },
  {
   "cell_type": "code",
   "execution_count": 29,
   "metadata": {},
   "outputs": [
    {
     "name": "stdout",
     "output_type": "stream",
     "text": [
      "d =\n",
      " [[1 2 3]\n",
      " [4 5 6]]\n",
      "d의 shape: (2, 3)\n",
      "d[0, 1] = 2\n",
      "d[:, 1] = [2 5]\n",
      "d[1, :] = [4 5 6]\n",
      "d[0:2, 1:3] =\n",
      " [[2 3]\n",
      " [5 6]]\n"
     ]
    }
   ],
   "source": [
    "# 2차원 배열 생성\n",
    "d = np.array([[1, 2, 3], [4, 5, 6]])\n",
    "print(\"d =\\n\", d)\n",
    "print(\"d의 shape:\", d.shape)\n",
    "\n",
    "# 인덱싱 및 슬라이싱\n",
    "print(\"d[0, 1] =\", d[0, 1])\n",
    "\n",
    "# 첫 번째 행, 두 번째 열\n",
    "print(\"d[:, 1] =\", d[:, 1])\n",
    "# 모든 행의 두 번째 열\n",
    "print(\"d[1, :] =\", d[1, :])\n",
    "# 두 번째 행 전체\n",
    "print(\"d[0:2, 1:3] =\\n\", d[0:2, 1:3])"
   ]
  },
  {
   "cell_type": "markdown",
   "metadata": {},
   "source": [
    "#### 배열의 브로드캐스팅, 집계함수\n",
    "- 브로드캐스팅은 서로 다른 크기의 배열 간에도 연산이 가능하도록 자동으로 크기를 맞춰주는 기능입니다.\n",
    "- NumPy는 배열의 합계, 평균, 최대값, 최소값 등 다양한 통계 함수를 제공합니다."
   ]
  },
  {
   "cell_type": "code",
   "execution_count": 30,
   "metadata": {},
   "outputs": [
    {
     "name": "stdout",
     "output_type": "stream",
     "text": [
      "e + f =\n",
      " [[11 22 33]\n",
      " [14 25 36]]\n",
      "d의 합계: 21\n",
      "d의 평균: 3.5\n",
      "d의 최대값: 6\n",
      "d의 최소값: 1\n",
      "d의 표준편차: 1.707825127659933\n"
     ]
    }
   ],
   "source": [
    "# 1차원 배열과 2차원 배열 간의 연산 예제\n",
    "e = np.array([[1, 2, 3], [4, 5, 6]])\n",
    "f = np.array([10, 20, 30])\n",
    "print(\"e + f =\\n\", e + f) # f가 각 행에 자동으로 브로드캐스팅됨\n",
    "\n",
    "print(\"d의 합계:\", np.sum(d))\n",
    "print(\"d의 평균:\", np.mean(d))\n",
    "print(\"d의 최대값:\", np.max(d))\n",
    "print(\"d의 최소값:\", np.min(d))\n",
    "print(\"d의 표준편차:\", np.std(d))"
   ]
  },
  {
   "cell_type": "markdown",
   "metadata": {},
   "source": [
    "#### 행렬 연산 및 기타 기능\n",
    "\n",
    "- 두 배열의 행렬 곱은 np.dot() 또는 @ 연산자를 사용하여 계산할 수 있습니다.\n",
    "- 배열의 모양을 바꾸거나 차원을 확장/축소하는 작업을 할 수도 있습니다."
   ]
  },
  {
   "cell_type": "code",
   "execution_count": 31,
   "metadata": {},
   "outputs": [
    {
     "name": "stdout",
     "output_type": "stream",
     "text": [
      "a와 x의 dot product = 550\n",
      "g =\n",
      " [[1 2]\n",
      " [3 4]]\n",
      "h =\n",
      " [[5 6]\n",
      " [7 8]]\n",
      "g.dot(h) =\n",
      " [[19 22]\n",
      " [43 50]]\n",
      "g @ h =\n",
      " [[19 22]\n",
      " [43 50]]\n",
      "i = [ 0  1  2  3  4  5  6  7  8  9 10 11]\n",
      "j =\n",
      " [[ 0  1  2  3]\n",
      " [ 4  5  6  7]\n",
      " [ 8  9 10 11]]\n",
      "k = [ 0  1  2  3  4  5  6  7  8  9 10 11]\n",
      "균등 분포 난수: [0.07871342 0.68312642 0.98415071 0.43981144 0.97168461]\n",
      "정규분포 난수 (3x3):\n",
      " [[-0.6286511  -0.99514749 -0.88094605]\n",
      " [-0.26805433  0.38571166 -0.18092889]\n",
      " [ 0.66032687 -0.83342912 -1.41872634]]\n"
     ]
    }
   ],
   "source": [
    "# 1차원 배열의 내적\n",
    "dot_product = np.dot(a, x)\n",
    "print(\"a와 x의 dot product =\", dot_product)\n",
    "\n",
    "# 2차원 배열의 행렬 곱\n",
    "g = np.array([[1, 2], [3, 4]])\n",
    "h = np.array([[5, 6], [7, 8]])\n",
    "print(\"g =\\n\", g)\n",
    "print(\"h =\\n\", h)\n",
    "print(\"g.dot(h) =\\n\", np.dot(g, h))\n",
    "print(\"g @ h =\\n\", g @ h)\n",
    "\n",
    "# 배열 재구성: reshape()를 사용하여 배열의 모양 변경\n",
    "i = np.arange(12) # 0부터 11까지의 1차원 배열\n",
    "print(\"i =\", i)\n",
    "j = i.reshape((3, 4)) # 3행 4열로 재구성\n",
    "print(\"j =\\n\", j)\n",
    "\n",
    "# 배열 평탄화: flatten()을 사용하면 다차원 배열을 1차원으로 변환\n",
    "k = j.flatten()\n",
    "print(\"k =\", k)\n",
    "\n",
    "# 0과 1 사이의 균등 분포 난수 5개 생성\n",
    "rand_uniform = np.random.rand(5)\n",
    "print(\"균등 분포 난수:\", rand_uniform)\n",
    "\n",
    "# 표준 정규분포 난수 (평균 0, 표준편차 1) 생성 (3x3 배열)\n",
    "rand_normal = np.random.randn(3, 3)\n",
    "print(\"정규분포 난수 (3x3):\\n\", rand_normal)"
   ]
  },
  {
   "cell_type": "markdown",
   "metadata": {},
   "source": [
    "### Pandas\n",
    "\n",
    "Pandas는 데이터 조작과 분석을 위한 강력한 라이브러리입니다.  \n",
    "주요 데이터 구조로는 **Series**(1차원 배열)와 **DataFrame**(2차원 표 형식 데이터)가 있습니다.\n",
    "\n",
    "#### Series와 Dataframe\n",
    "- Series는 1차원 배열과 같이 작동하며, 인덱스가 자동으로 할당되거나 사용자 지정할 수 있습니다.\n",
    "- DataFrame은 여러 열로 구성된 2차원 데이터 구조입니다. 리스트 혹은 딕셔너리를 사용하여 쉽게 생성할 수 있습니다."
   ]
  },
  {
   "cell_type": "code",
   "execution_count": 32,
   "metadata": {},
   "outputs": [
    {
     "name": "stdout",
     "output_type": "stream",
     "text": [
      "Default Index Series:\n",
      " 0    10\n",
      "1    20\n",
      "2    30\n",
      "3    40\n",
      "4    50\n",
      "dtype: int64\n",
      "\n",
      "Custom Index Series:\n",
      " a    10\n",
      "b    20\n",
      "c    30\n",
      "d    40\n",
      "e    50\n",
      "dtype: int64\n",
      "DataFrame:\n",
      "       Name  Age  Salary\n",
      "0    Alice   25   50000\n",
      "1      Bob   30   60000\n",
      "2  Charlie   35   70000\n",
      "3    David   40   80000\n",
      "DataFrame:\n",
      "       Name  Age  Salary\n",
      "0    Alice   25   50000\n",
      "1      Bob   30   60000\n",
      "2  Charlie   35   70000\n",
      "3    David   40   80000\n"
     ]
    }
   ],
   "source": [
    "# 리스트를 사용하여 Series 생성\n",
    "data = [10, 20, 30, 40, 50]\n",
    "s = pd.Series(data)\n",
    "print(\"Default Index Series:\\n\", s)\n",
    "\n",
    "# 사용자 지정 인덱스를 사용하여 Series 생성\n",
    "s2 = pd.Series(data, index=['a', 'b', 'c', 'd', 'e'])\n",
    "print(\"\\nCustom Index Series:\\n\", s2)\n",
    "\n",
    "# 리스트를 사용하여 DataFrame 생성\n",
    "data = [\n",
    "    ['Alice', 25, 50000],\n",
    "    ['Bob', 30, 60000],\n",
    "    ['Charlie', 35, 70000],\n",
    "    ['David', 40, 80000]\n",
    "]\n",
    "df = pd.DataFrame(data, columns=['Name', 'Age', 'Salary'])\n",
    "print(\"DataFrame:\\n\", df)\n",
    "\n",
    "# 딕셔너리를 사용하여 Series 생성\n",
    "data = {\n",
    "    'Name': ['Alice', 'Bob', 'Charlie', 'David'],\n",
    "    'Age': [25, 30, 35, 40],\n",
    "    'Salary': [50000, 60000, 70000, 80000]\n",
    "}\n",
    "df = pd.DataFrame(data)\n",
    "print(\"DataFrame:\\n\", df)"
   ]
  },
  {
   "cell_type": "markdown",
   "metadata": {},
   "source": [
    "#### 인덱싱 및 데이터 선택\n",
    "\n",
    "DataFrame의 열은 딕셔너리 키와 비슷하게 선택할 수 있으며, `.loc`와 `.iloc`를 통해 행을 선택할 수 있습니다."
   ]
  },
  {
   "cell_type": "code",
   "execution_count": 33,
   "metadata": {},
   "outputs": [
    {
     "name": "stdout",
     "output_type": "stream",
     "text": [
      "Name 열:\n",
      " 0      Alice\n",
      "1        Bob\n",
      "2    Charlie\n",
      "3      David\n",
      "Name: Name, dtype: object\n",
      "\n",
      "두 번째 행 (loc):\n",
      " Name        Bob\n",
      "Age          30\n",
      "Salary    60000\n",
      "Name: 1, dtype: object\n",
      "\n",
      "세 번째 행 (iloc):\n",
      " Name      Charlie\n",
      "Age            35\n",
      "Salary      70000\n",
      "Name: 2, dtype: object\n",
      "\n",
      "0~2번째 행 (loc):\n",
      "       Name  Age  Salary\n",
      "0    Alice   25   50000\n",
      "1      Bob   30   60000\n",
      "2  Charlie   35   70000\n"
     ]
    }
   ],
   "source": [
    "# 열 선택\n",
    "print(\"Name 열:\\n\", df['Name'])\n",
    "\n",
    "# .loc를 이용한 행 선택 (인덱스 라벨)\n",
    "print(\"\\n두 번째 행 (loc):\\n\", df.loc[1])\n",
    "\n",
    "# .iloc를 이용한 행 선택 (정수 위치)\n",
    "print(\"\\n세 번째 행 (iloc):\\n\", df.iloc[2])\n",
    "\n",
    "# 슬라이싱 예제\n",
    "print(\"\\n0~2번째 행 (loc):\\n\", df.loc[0:2])"
   ]
  },
  {
   "cell_type": "markdown",
   "metadata": {},
   "source": [
    "#### 기본 DataFrame 연산 및 집계 함수\n",
    "\n",
    "Pandas는 데이터 요약과 통계 함수를 제공합니다."
   ]
  },
  {
   "cell_type": "code",
   "execution_count": 34,
   "metadata": {},
   "outputs": [
    {
     "name": "stdout",
     "output_type": "stream",
     "text": [
      "요약 통계:\n",
      "              Age        Salary\n",
      "count   4.000000      4.000000\n",
      "mean   32.500000  65000.000000\n",
      "std     6.454972  12909.944487\n",
      "min    25.000000  50000.000000\n",
      "25%    28.750000  57500.000000\n",
      "50%    32.500000  65000.000000\n",
      "75%    36.250000  72500.000000\n",
      "max    40.000000  80000.000000\n",
      "\n",
      "나이 순 정렬:\n",
      "       Name  Age  Salary\n",
      "0    Alice   25   50000\n",
      "1      Bob   30   60000\n",
      "2  Charlie   35   70000\n",
      "3    David   40   80000\n",
      "\n",
      "Salary가 60000 초과인 행:\n",
      "       Name  Age  Salary\n",
      "2  Charlie   35   70000\n",
      "3    David   40   80000\n"
     ]
    }
   ],
   "source": [
    "# 데이터 요약 통계\n",
    "print(\"요약 통계:\\n\", df.describe())\n",
    "\n",
    "# 특정 열로 정렬\n",
    "df_sorted = df.sort_values(by='Age')\n",
    "print(\"\\n나이 순 정렬:\\n\", df_sorted)\n",
    "\n",
    "# 조건에 따른 필터링\n",
    "df_filtered = df[df['Salary'] > 60000]\n",
    "print(\"\\nSalary가 60000 초과인 행:\\n\", df_filtered)"
   ]
  },
  {
   "cell_type": "markdown",
   "metadata": {},
   "source": [
    "#### 파일 입출력\n",
    "\n",
    "Pandas는 CSV, Excel, SQL 등 다양한 포맷의 파일을 쉽게 읽고 쓸 수 있습니다."
   ]
  },
  {
   "cell_type": "code",
   "execution_count": 35,
   "metadata": {},
   "outputs": [
    {
     "name": "stdout",
     "output_type": "stream",
     "text": [
      "           DATE  RSCCASN\n",
      "0    1992-01-01     6938\n",
      "1    1992-02-01     7524\n",
      "2    1992-03-01     8475\n",
      "3    1992-04-01     9401\n",
      "4    1992-05-01     9558\n",
      "..          ...      ...\n",
      "329  2019-06-01    21123\n",
      "330  2019-07-01    21714\n",
      "331  2019-08-01    23791\n",
      "332  2019-09-01    19695\n",
      "333  2019-10-01    21113\n",
      "\n",
      "[334 rows x 2 columns]\n"
     ]
    }
   ],
   "source": [
    "# CSV 파일 읽기\n",
    "df_from_csv = pd.read_csv('../datasets/RSCCASN.csv')\n",
    "print(df_from_csv)\n",
    "\n",
    "# DataFrame을 CSV 파일로 저장하기 (인덱스는 저장하지 않음)\n",
    "# df.to_csv('output.csv', index=False)"
   ]
  },
  {
   "cell_type": "markdown",
   "metadata": {},
   "source": [
    "#### 겶측치 처리\n",
    "\n",
    "Pandas는 `fillna`, `dropna` 등의 함수로 결측치를 다룹니다."
   ]
  },
  {
   "cell_type": "code",
   "execution_count": 36,
   "metadata": {},
   "outputs": [
    {
     "name": "stdout",
     "output_type": "stream",
     "text": [
      "원본 데이터 (결측치 포함):\n",
      "      A    B\n",
      "0  1.0  NaN\n",
      "1  2.0  2.0\n",
      "2  NaN  3.0\n",
      "3  4.0  4.0\n",
      "\n",
      "결측치 채우기 (0으로):\n",
      "      A    B\n",
      "0  1.0  0.0\n",
      "1  2.0  2.0\n",
      "2  0.0  3.0\n",
      "3  4.0  4.0\n",
      "\n",
      "결측치가 있는 행 제거:\n",
      "      A    B\n",
      "1  2.0  2.0\n",
      "3  4.0  4.0\n"
     ]
    }
   ],
   "source": [
    "# 결측치가 있는 DataFrame 생성\n",
    "data_with_nan = {\n",
    "    'A': [1, 2, None, 4],\n",
    "    'B': [None, 2, 3, 4]\n",
    "}\n",
    "df_nan = pd.DataFrame(data_with_nan)\n",
    "print(\"원본 데이터 (결측치 포함):\\n\", df_nan)\n",
    "\n",
    "# 결측치를 특정 값으로 채우기\n",
    "df_filled = df_nan.fillna(0)\n",
    "print(\"\\n결측치 채우기 (0으로):\\n\", df_filled)\n",
    "\n",
    "# 결측치가 있는 행 제거\n",
    "df_dropped = df_nan.dropna()\n",
    "print(\"\\n결측치가 있는 행 제거:\\n\", df_dropped)"
   ]
  },
  {
   "cell_type": "markdown",
   "metadata": {},
   "source": [
    "#### 데이터 병합 혹은 연걸\n",
    "\n",
    "두 데이터프레임을 같은 값을 기준으로 병합하거나 그냥 쌓아서 연결할 수 있습니다."
   ]
  },
  {
   "cell_type": "code",
   "execution_count": 37,
   "metadata": {},
   "outputs": [
    {
     "name": "stdout",
     "output_type": "stream",
     "text": [
      "병합된 DataFrame:\n",
      "   key  value1  value2\n",
      "0   B       2       5\n",
      "1   C       3       6\n",
      "2   D       4       7\n",
      "\n",
      "연결된 DataFrame:\n",
      "   key  value1  value2\n",
      "0   A     1.0     NaN\n",
      "1   B     2.0     NaN\n",
      "2   C     3.0     NaN\n",
      "3   D     4.0     NaN\n",
      "0   B     NaN     5.0\n",
      "1   C     NaN     6.0\n",
      "2   D     NaN     7.0\n",
      "3   E     NaN     8.0\n"
     ]
    }
   ],
   "source": [
    "# 두 DataFrame 병합 (inner join)\n",
    "df1 = pd.DataFrame({\n",
    "    'key': ['A', 'B', 'C', 'D'],\n",
    "    'value1': [1, 2, 3, 4]\n",
    "})\n",
    "df2 = pd.DataFrame({\n",
    "    'key': ['B', 'C', 'D', 'E'],\n",
    "    'value2': [5, 6, 7, 8]\n",
    "})\n",
    "merged_df = pd.merge(df1, df2, on='key', how='inner')\n",
    "print(\"병합된 DataFrame:\\n\", merged_df)\n",
    "\n",
    "# DataFrame 연결 (세로로 연결)\n",
    "concat_df = pd.concat([df1, df2], axis=0, sort=False)\n",
    "print(\"\\n연결된 DataFrame:\\n\", concat_df)\n"
   ]
  },
  {
   "cell_type": "markdown",
   "metadata": {},
   "source": [
    "### Matplotlib"
   ]
  },
  {
   "cell_type": "markdown",
   "metadata": {},
   "source": [
    "Matplotlib은 Python에서 데이터 시각화를 위한 대표적인 라이브러리입니다.  \n",
    "주로 `pyplot` 모듈을 사용하여 간단한 코드로 다양한 그래프(선 그래프, 산점도, 히스토그램 등)를 그릴 수 있습니다."
   ]
  },
  {
   "cell_type": "code",
   "execution_count": 38,
   "metadata": {},
   "outputs": [
    {
     "name": "stderr",
     "output_type": "stream",
     "text": [
      "/Users/minkeychang/anaconda3/envs/forecasting_lecture/lib/python3.9/site-packages/IPython/core/pylabtools.py:152: UserWarning: Glyph 44050 (\\N{HANGUL SYLLABLE GABS}) missing from font(s) DejaVu Sans.\n",
      "  fig.canvas.print_figure(bytes_io, **kw)\n"
     ]
    },
    {
     "data": {
      "image/png": "[encoded data removed]",
      "text/plain": [
       "<Figure size 640x480 with 1 Axes>"
      ]
     },
     "metadata": {},
     "output_type": "display_data"
    }
   ],
   "source": [
    "# 선 그래프 예제\n",
    "x = np.linspace(0, 10, 100)   # 0부터 10까지 100개의 숫자 생성\n",
    "y = np.sin(x)                 # sin 함수를 적용한 값\n",
    "\n",
    "plt.figure()                  # 새로운 Figure 생성\n",
    "plt.plot(x, y, label=\"sin(x)\")  # x, y 데이터를 선 그래프로 그리기\n",
    "plt.xlabel(\"x 값\")            # x축 라벨 설정\n",
    "plt.ylabel(\"sin(x)\")          # y축 라벨 설정\n",
    "plt.title(\"sin function graph\")     # 그래프 제목 설정\n",
    "plt.legend()                  # 범례 표시\n",
    "plt.show()                    # 그래프 출력"
   ]
  },
  {
   "cell_type": "code",
   "execution_count": 39,
   "metadata": {},
   "outputs": [
    {
     "data": {
      "image/png": "[encoded data removed]",
      "text/plain": [
       "<Figure size 640x480 with 1 Axes>"
      ]
     },
     "metadata": {},
     "output_type": "display_data"
    }
   ],
   "source": [
    "# 산점도 예제\n",
    "x_scatter = np.random.rand(50)  # 0과 1 사이의 랜덤값 50개 생성\n",
    "y_scatter = np.random.rand(50)  # 0과 1 사이의 랜덤값 50개 생성\n",
    "\n",
    "plt.figure()\n",
    "plt.scatter(x_scatter, y_scatter, color='green', marker='o')\n",
    "plt.xlabel(\"x value\")\n",
    "plt.ylabel(\"y value\")\n",
    "plt.title(\"scatter plot example\")\n",
    "plt.show()"
   ]
  },
  {
   "cell_type": "code",
   "execution_count": 40,
   "metadata": {},
   "outputs": [
    {
     "data": {
      "image/png": "[encoded data removed]",
      "text/plain": [
       "<Figure size 640x480 with 1 Axes>"
      ]
     },
     "metadata": {},
     "output_type": "display_data"
    }
   ],
   "source": [
    "# 히스토그램 예제\n",
    "data = np.random.randn(1000)  # 평균 0, 표준편차 1인 1000개의 난수 생성\n",
    "\n",
    "plt.figure()\n",
    "plt.hist(data, bins=30, color='skyblue', edgecolor='black')\n",
    "plt.xlabel(\"value\")\n",
    "plt.ylabel(\"frequency\")\n",
    "plt.title(\"histogram example\")\n",
    "plt.show()"
   ]
  },
  {
   "cell_type": "markdown",
   "metadata": {},
   "source": [
    "## 3. ARMA 추정 실습"
   ]
  },
  {
   "cell_type": "markdown",
   "metadata": {},
   "source": [
    "#### 데이터를 준비합니다.\n",
    "\n",
    "본 실습에서는 AEP_hourly 데이터를 활용하며, ARMA(2,1) 모형을 추정합니다.\n",
    "\n",
    "$y_{t} = \\phi_{1} y_{t-1} + \\phi_{2} y_{t-2} + \\epsilon_{t} + \\psi \\epsilon_{t-1}, \\quad \\epsilon_{t} \\sim N(0, \\sigma^{2})$"
   ]
  },
  {
   "cell_type": "code",
   "execution_count": 41,
   "metadata": {},
   "outputs": [
    {
     "name": "stdout",
     "output_type": "stream",
     "text": [
      "             Datetime   AEP_MW\n",
      "0 2004-10-01 01:00:00  12379.0\n",
      "1 2004-10-01 02:00:00  11935.0\n",
      "2 2004-10-01 03:00:00  11692.0\n",
      "3 2004-10-01 04:00:00  11597.0\n",
      "4 2004-10-01 05:00:00  11681.0\n",
      "Number of observations: 2000\n"
     ]
    }
   ],
   "source": [
    "# 데이터 로드\n",
    "df = pd.read_csv('../datasets/AEP_hourly.csv', parse_dates=['Datetime'])\n",
    "df = df.sort_values(by='Datetime').reset_index(drop=True)\n",
    "print(df.head())\n",
    "\n",
    "# 실습을 위해 일부 데이터만 사용합니다.\n",
    "df_subset = df.head(2000)\n",
    "y = df_subset['AEP_MW'].values\n",
    "T = len(y)\n",
    "print(\"Number of observations:\", T)"
   ]
  },
  {
   "cell_type": "code",
   "execution_count": 42,
   "metadata": {},
   "outputs": [],
   "source": [
    "from scipy.optimize import minimize\n",
    "\n",
    "# ARMA(2,1) 모델의 음의 로그 우도 함수를 정의합니다.\n",
    "# 모델: X_t = phi1 * X_{t-1} + phi2 * X_{t-2} + epsilon_t + psi * epsilon_{t-1}\n",
    "# 여기서 epsilon_t ~ N(0, sigma2)\n",
    "def arma_loglike(params, y):    # 파라미터를 추출합니다: phi1, phi2, psi, sigma2\n",
    "    phi1, phi2, psi, sigma2 = params\n",
    "    T = len(y)\n",
    "    # 잔차를 초기화하고 처음 두 개의 잔차를 0으로 설정합니다.\n",
    "    eps = np.zeros(T)\n",
    "    # t=2부터 T-1까지 잔차를 재귀적으로 계산합니다.\n",
    "    # 참고: t=0과 t=1에 대해서는 eps = 0으로 가정합니다.\n",
    "    for t in range(2, T):\n",
    "        eps[t] = y[t] - phi1 * y[t-1] - phi2 * y[t-2] - psi * eps[t-1]\n",
    "    # t=2부터 T-1까지의 잔차를 사용합니다.\n",
    "    n = T - 2\n",
    "    # 조건부 로그 우도를 계산합니다 (초기 조건은 무시합니다)\n",
    "    # 로그 우도 = -0.5 * n * log(2πσ^2) - (1/(2σ^2)) * sum(eps[t]^2)\n",
    "    ll = -0.5 * n * np.log(2 * np.pi * sigma2) - (0.5 / sigma2) * np.sum(eps[2:]**2)\n",
    "    # 대부분의 최적화 알고리즘은 함수를 최소화하므로 음의 로그 우도를 반환합니다.\n",
    "    return -ll"
   ]
  },
  {
   "cell_type": "markdown",
   "metadata": {},
   "source": [
    "ARMA(2,1) 모델의 최적화를 위한 초기 추정값을 설정합니다.\n",
    "- 일반적으로 AR 패러미터는 OLS를 사용하여 초기 추정값을 설정하며, MA 패러미터는 0으로 설정합니다.\n",
    "- sigma2의 초기 추정값은 데이터의 분산으로 설정합니다."
   ]
  },
  {
   "cell_type": "code",
   "execution_count": 43,
   "metadata": {},
   "outputs": [
    {
     "name": "stdout",
     "output_type": "stream",
     "text": [
      "Estimated ARMA(2,1) parameters:\n",
      "  phi1  = 1.5734\n",
      "  phi2  = -0.5746\n",
      "  theta = 0.5087\n",
      "  sigma^2 = 4300127.6817\n"
     ]
    }
   ],
   "source": [
    "# ARMA(2,1) 모델의 초기 추정값을 계산합니다.\n",
    "phi_ols = np.linalg.inv(np.column_stack((y[1:-1], y[0:-2])).T @ np.column_stack((y[1:-1], y[0:-2])) ) @ (np.column_stack((y[1:-1], y[0:-2])).T @ y[2:])\n",
    "init_phi1, init_phi2 = phi_ols\n",
    "init_psi = 0.0\n",
    "init_sigma2 = np.var(y)\n",
    "init_params = np.array([init_phi1, init_phi2, init_psi, init_sigma2])\n",
    "\n",
    "# phi1, phi2, theta는 (-∞, ∞) 범위, sigma2는 (0, ∞) 범위로 설정합니다.\n",
    "bounds = [(-np.inf, np.inf), (-np.inf, np.inf), (-np.inf, np.inf), (1e-6, np.inf)]\n",
    "\n",
    "# Optimize the negative log likelihood.\n",
    "result = minimize(arma_loglike, init_params, args=(y,), bounds=bounds, method='L-BFGS-B')\n",
    "est_phi1, est_phi2, est_theta, est_sigma2 = result.x\n",
    "\n",
    "print(\"Estimated ARMA(2,1) parameters:\")\n",
    "print(f\"  phi1  = {est_phi1:.4f}\")\n",
    "print(f\"  phi2  = {est_phi2:.4f}\")\n",
    "print(f\"  theta = {est_theta:.4f}\")\n",
    "print(f\"  sigma^2 = {est_sigma2:.4f}\")\n"
   ]
  },
  {
   "cell_type": "code",
   "execution_count": 44,
   "metadata": {},
   "outputs": [
    {
     "data": {
      "image/png": "[encoded data removed]",
      "text/plain": [
       "<Figure size 1000x500 with 1 Axes>"
      ]
     },
     "metadata": {},
     "output_type": "display_data"
    }
   ],
   "source": [
    "plt.figure(figsize=(10, 5))\n",
    "plt.plot(np.arange(T), y, linestyle='-', color='blue', label='AEP_MW')\n",
    "plt.title(\"AEP_MW Time Series\")\n",
    "plt.xlabel(\"Time Index\")\n",
    "plt.ylabel(\"AEP_MW\")\n",
    "plt.grid(True)\n",
    "plt.legend([\"AEP_MW\"])\n",
    "plt.show()"
   ]
  },
  {
   "cell_type": "code",
   "execution_count": null,
   "metadata": {},
   "outputs": [],
   "source": []
  },
  {
   "cell_type": "code",
   "execution_count": null,
   "metadata": {},
   "outputs": [],
   "source": []
  }
 ],
 "metadata": {
  "kernelspec": {
   "display_name": "forecasting_lecture",
   "language": "python",
   "name": "python3"
  },
  "language_info": {
   "codemirror_mode": {
    "name": "ipython",
    "version": 3
   },
   "file_extension": ".py",
   "mimetype": "text/x-python",
   "name": "python",
   "nbconvert_exporter": "python",
   "pygments_lexer": "ipython3",
   "version": "3.9.21"
  }
 },
 "nbformat": 4,
 "nbformat_minor": 2
}
