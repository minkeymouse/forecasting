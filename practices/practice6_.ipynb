{
 "cells": [
  {
   "cell_type": "markdown",
   "id": "f9ecc5ff",
   "metadata": {},
   "source": [
    "# 경제 분석 및 예측과 데이터 지능 6: Transformer, MAMBA"
   ]
  },
  {
   "cell_type": "code",
   "execution_count": null,
   "id": "90e0e2c7",
   "metadata": {},
   "outputs": [],
   "source": [
    "\n"
   ]
  },
  {
   "cell_type": "code",
   "execution_count": null,
   "id": "4d01ca98",
   "metadata": {},
   "outputs": [],
   "source": []
  }
 ],
 "metadata": {
  "kernelspec": {
   "display_name": "forecasting_lecture",
   "language": "python",
   "name": "python3"
  },
  "language_info": {
   "codemirror_mode": {
    "name": "ipython",
    "version": 3
   },
   "file_extension": ".py",
   "mimetype": "text/x-python",
   "name": "python",
   "nbconvert_exporter": "python",
   "pygments_lexer": "ipython3",
   "version": "3.10.17"
  }
 },
 "nbformat": 4,
 "nbformat_minor": 5
}
